{
 "cells": [
  {
   "cell_type": "markdown",
   "metadata": {},
   "source": [
    "# Rescaled Range Analysis"
   ]
  },
  {
   "cell_type": "code",
   "execution_count": 2,
   "metadata": {},
   "outputs": [],
   "source": [
    "import pandas as pd\n",
    "import numpy as np"
   ]
  },
  {
   "cell_type": "code",
   "execution_count": 3,
   "metadata": {},
   "outputs": [
    {
     "data": {
      "text/plain": [
       "array(['BINANCE_SPOT_BTC_USDT', 'BINANCE_SPOT_ETH_USDT',\n",
       "       'BINANCE_SPOT_BNB_USDT', 'BINANCE_SPOT_ADA_USDT',\n",
       "       'BINANCE_SPOT_XRP_USDT', 'BINANCE_SPOT_MATIC_USDT',\n",
       "       'BINANCE_SPOT_SOL_USDT', 'BINANCE_SPOT_UNI_USDT',\n",
       "       'BINANCE_SPOT_AVAX_USDT'], dtype=object)"
      ]
     },
     "execution_count": 3,
     "metadata": {},
     "output_type": "execute_result"
    }
   ],
   "source": [
    "# read spot data\n",
    "df_spot = pd.read_pickle('overall.pkl')\n",
    "df_perp = pd.read_pickle('perp_overall.pkl')\n",
    "df_spot.ticker.unique()"
   ]
  },
  {
   "cell_type": "markdown",
   "metadata": {},
   "source": [
    "#### Returns for 1 series and Hurst exponent"
   ]
  },
  {
   "cell_type": "code",
   "execution_count": 4,
   "metadata": {},
   "outputs": [],
   "source": [
    "# using btc_usdt as an example\n",
    "btc_usdt = df_spot.loc[df_spot['ticker'] == 'BINANCE_SPOT_BTC_USDT']\n",
    "btc_usdt = btc_usdt[['time_period_start', 'price_close', 'ticker']] \n",
    "btc_usdt.reset_index(drop=True, inplace=True)\n",
    "btc_usdt['time_period_start'] = pd.to_datetime(btc_usdt['time_period_start'], utc=True)\n",
    "\n",
    "# calculate returns\n",
    "btc_usdt['ret'] = btc_usdt['price_close'].pct_change() \n",
    "\n",
    "# create an extra df from 1st Nov 2020 to start splitting into 63 dfs\n",
    "res_btc_usdt = btc_usdt[btc_usdt['time_period_start'] >= '2020-11-01']"
   ]
  },
  {
   "cell_type": "markdown",
   "metadata": {},
   "source": [
    "## One month worth of 1hr data"
   ]
  },
  {
   "cell_type": "markdown",
   "metadata": {},
   "source": [
    "#### testing on array splitting to get the mean for each series"
   ]
  },
  {
   "cell_type": "code",
   "execution_count": 6,
   "metadata": {},
   "outputs": [],
   "source": [
    "hurst_one_range = res_btc_usdt.head(672)\n",
    "ranges = {\n",
    "    'one range': hurst_one_range,\n",
    "    'two ranges': np.array_split(hurst_one_range, 2),\n",
    "    'four ranges': np.array_split(hurst_one_range, 4),\n",
    "    'eight range': np.array_split(hurst_one_range, 8),\n",
    "    '16 range': np.array_split(hurst_one_range, 16),\n",
    "    '32 range': np.array_split(hurst_one_range, 32),\n",
    "}"
   ]
  },
  {
   "cell_type": "code",
   "execution_count": 69,
   "metadata": {},
   "outputs": [
    {
     "data": {
      "text/plain": [
       "0.0004745478555720082"
      ]
     },
     "execution_count": 69,
     "metadata": {},
     "output_type": "execute_result"
    }
   ],
   "source": [
    "# every value in ranges dict from 'two ranges' onwards, we find the mean \n",
    "list(ranges.values())[1][0]['ret'].mean()"
   ]
  },
  {
   "cell_type": "markdown",
   "metadata": {},
   "source": [
    "#### Mean calculation for 63 ranges (on btc_usdt)"
   ]
  },
  {
   "cell_type": "code",
   "execution_count": 44,
   "metadata": {},
   "outputs": [],
   "source": [
    "# start the list with the one_range df\n",
    "list_of_means = [list(ranges.values())[0]['ret'].mean()]\n",
    "start_date = [list(ranges.values())[0].iloc[:, 0:1].values[0][0]]\n",
    "end_date = [list(ranges.values())[0].iloc[:, 0:1].values[-1][0]]\n",
    "\n",
    "# number of dfs from 2-32 ranges\n",
    "range_values = [2, 4, 8, 16, 32]\n",
    "\n",
    "# loop through each df in dict values to calculate its mean \n",
    "for i in range(1, len(ranges)):\n",
    "    \n",
    "    # loop through the range_values for each inner df\n",
    "    for j in range(range_values[i-1]):\n",
    "        inner_df = list(ranges.values())[i][j]\n",
    "        mean_value = inner_df['ret'].mean()\n",
    "        start_dt = inner_df.iloc[:, 0:1].values[0][0]\n",
    "        end_dt = inner_df.iloc[:, 0:1].values[-1][0]\n",
    "        \n",
    "        # store the mean, start_date and end_date\n",
    "        list_of_means.append(mean_value)\n",
    "        start_date.append(start_dt)\n",
    "        end_date.append(end_dt)\n",
    "        \n"
   ]
  },
  {
   "cell_type": "code",
   "execution_count": 45,
   "metadata": {},
   "outputs": [],
   "source": [
    "# create dataframe to store the means, start date and end date range\n",
    "six_three_means = pd.DataFrame(data=list_of_means, columns=['means for 63 series'])\n",
    "six_three_means['start_date'] = start_date\n",
    "six_three_means['end_date'] = end_date"
   ]
  },
  {
   "cell_type": "code",
   "execution_count": 48,
   "metadata": {},
   "outputs": [
    {
     "data": {
      "text/html": [
       "<div>\n",
       "<style scoped>\n",
       "    .dataframe tbody tr th:only-of-type {\n",
       "        vertical-align: middle;\n",
       "    }\n",
       "\n",
       "    .dataframe tbody tr th {\n",
       "        vertical-align: top;\n",
       "    }\n",
       "\n",
       "    .dataframe thead th {\n",
       "        text-align: right;\n",
       "    }\n",
       "</style>\n",
       "<table border=\"1\" class=\"dataframe\">\n",
       "  <thead>\n",
       "    <tr style=\"text-align: right;\">\n",
       "      <th></th>\n",
       "      <th>means for 63 series</th>\n",
       "      <th>start_date</th>\n",
       "      <th>end_date</th>\n",
       "    </tr>\n",
       "  </thead>\n",
       "  <tbody>\n",
       "    <tr>\n",
       "      <th>58</th>\n",
       "      <td>-0.000238</td>\n",
       "      <td>2020-11-24 15:00:00+00:00</td>\n",
       "      <td>2020-11-25 11:00:00+00:00</td>\n",
       "    </tr>\n",
       "    <tr>\n",
       "      <th>59</th>\n",
       "      <td>-0.006248</td>\n",
       "      <td>2020-11-25 12:00:00+00:00</td>\n",
       "      <td>2020-11-26 08:00:00+00:00</td>\n",
       "    </tr>\n",
       "    <tr>\n",
       "      <th>60</th>\n",
       "      <td>0.001148</td>\n",
       "      <td>2020-11-26 09:00:00+00:00</td>\n",
       "      <td>2020-11-27 05:00:00+00:00</td>\n",
       "    </tr>\n",
       "    <tr>\n",
       "      <th>61</th>\n",
       "      <td>-0.000709</td>\n",
       "      <td>2020-11-27 06:00:00+00:00</td>\n",
       "      <td>2020-11-28 02:00:00+00:00</td>\n",
       "    </tr>\n",
       "    <tr>\n",
       "      <th>62</th>\n",
       "      <td>0.002040</td>\n",
       "      <td>2020-11-28 03:00:00+00:00</td>\n",
       "      <td>2020-11-28 23:00:00+00:00</td>\n",
       "    </tr>\n",
       "  </tbody>\n",
       "</table>\n",
       "</div>"
      ],
      "text/plain": [
       "    means for 63 series                start_date                  end_date\n",
       "58            -0.000238 2020-11-24 15:00:00+00:00 2020-11-25 11:00:00+00:00\n",
       "59            -0.006248 2020-11-25 12:00:00+00:00 2020-11-26 08:00:00+00:00\n",
       "60             0.001148 2020-11-26 09:00:00+00:00 2020-11-27 05:00:00+00:00\n",
       "61            -0.000709 2020-11-27 06:00:00+00:00 2020-11-28 02:00:00+00:00\n",
       "62             0.002040 2020-11-28 03:00:00+00:00 2020-11-28 23:00:00+00:00"
      ]
     },
     "execution_count": 48,
     "metadata": {},
     "output_type": "execute_result"
    }
   ],
   "source": [
    "six_three_means.tail()"
   ]
  },
  {
   "cell_type": "markdown",
   "metadata": {},
   "source": [
    "#### For these 63 dataframes find the deviation from its mean"
   ]
  },
  {
   "cell_type": "code",
   "execution_count": 51,
   "metadata": {},
   "outputs": [],
   "source": [
    "# pull all dfs into 1 list\n",
    "list_of_dfs = [hurst_one_range]\n",
    "ranges = [2,4,8,16,32]\n",
    "for r in ranges:\n",
    "    range_dfs = np.array_split(hurst_one_range, r)\n",
    "    for df in range_dfs:\n",
    "        list_of_dfs.append(df)"
   ]
  },
  {
   "cell_type": "code",
   "execution_count": 55,
   "metadata": {},
   "outputs": [
    {
     "name": "stderr",
     "output_type": "stream",
     "text": [
      "d:\\Miniconda3\\lib\\site-packages\\ipykernel_launcher.py:5: SettingWithCopyWarning: \n",
      "A value is trying to be set on a copy of a slice from a DataFrame.\n",
      "Try using .loc[row_indexer,col_indexer] = value instead\n",
      "\n",
      "See the caveats in the documentation: https://pandas.pydata.org/pandas-docs/stable/user_guide/indexing.html#returning-a-view-versus-a-copy\n",
      "  \"\"\"\n"
     ]
    }
   ],
   "source": [
    "# find the mean deviations\n",
    "means = six_three_means['means for 63 series'].tolist()\n",
    "\n",
    "for df, mean in zip(list_of_dfs, means):\n",
    "    df['mean_deviation'] = df['ret'] - mean"
   ]
  },
  {
   "cell_type": "code",
   "execution_count": 58,
   "metadata": {},
   "outputs": [
    {
     "data": {
      "text/html": [
       "<div>\n",
       "<style scoped>\n",
       "    .dataframe tbody tr th:only-of-type {\n",
       "        vertical-align: middle;\n",
       "    }\n",
       "\n",
       "    .dataframe tbody tr th {\n",
       "        vertical-align: top;\n",
       "    }\n",
       "\n",
       "    .dataframe thead th {\n",
       "        text-align: right;\n",
       "    }\n",
       "</style>\n",
       "<table border=\"1\" class=\"dataframe\">\n",
       "  <thead>\n",
       "    <tr style=\"text-align: right;\">\n",
       "      <th></th>\n",
       "      <th>time_period_start</th>\n",
       "      <th>price_close</th>\n",
       "      <th>ticker</th>\n",
       "      <th>ret</th>\n",
       "      <th>mean_deviation</th>\n",
       "    </tr>\n",
       "  </thead>\n",
       "  <tbody>\n",
       "    <tr>\n",
       "      <th>116</th>\n",
       "      <td>2020-11-01 00:00:00+00:00</td>\n",
       "      <td>13725.95</td>\n",
       "      <td>BINANCE_SPOT_BTC_USDT</td>\n",
       "      <td>-0.004717</td>\n",
       "      <td>-0.005116</td>\n",
       "    </tr>\n",
       "    <tr>\n",
       "      <th>117</th>\n",
       "      <td>2020-11-01 01:00:00+00:00</td>\n",
       "      <td>13759.90</td>\n",
       "      <td>BINANCE_SPOT_BTC_USDT</td>\n",
       "      <td>0.002473</td>\n",
       "      <td>0.002074</td>\n",
       "    </tr>\n",
       "    <tr>\n",
       "      <th>118</th>\n",
       "      <td>2020-11-01 02:00:00+00:00</td>\n",
       "      <td>13715.88</td>\n",
       "      <td>BINANCE_SPOT_BTC_USDT</td>\n",
       "      <td>-0.003199</td>\n",
       "      <td>-0.003599</td>\n",
       "    </tr>\n",
       "    <tr>\n",
       "      <th>119</th>\n",
       "      <td>2020-11-01 03:00:00+00:00</td>\n",
       "      <td>13690.01</td>\n",
       "      <td>BINANCE_SPOT_BTC_USDT</td>\n",
       "      <td>-0.001886</td>\n",
       "      <td>-0.002286</td>\n",
       "    </tr>\n",
       "    <tr>\n",
       "      <th>120</th>\n",
       "      <td>2020-11-01 04:00:00+00:00</td>\n",
       "      <td>13677.25</td>\n",
       "      <td>BINANCE_SPOT_BTC_USDT</td>\n",
       "      <td>-0.000932</td>\n",
       "      <td>-0.001332</td>\n",
       "    </tr>\n",
       "    <tr>\n",
       "      <th>...</th>\n",
       "      <td>...</td>\n",
       "      <td>...</td>\n",
       "      <td>...</td>\n",
       "      <td>...</td>\n",
       "      <td>...</td>\n",
       "    </tr>\n",
       "    <tr>\n",
       "      <th>783</th>\n",
       "      <td>2020-11-28 19:00:00+00:00</td>\n",
       "      <td>17814.50</td>\n",
       "      <td>BINANCE_SPOT_BTC_USDT</td>\n",
       "      <td>0.004767</td>\n",
       "      <td>0.004367</td>\n",
       "    </tr>\n",
       "    <tr>\n",
       "      <th>784</th>\n",
       "      <td>2020-11-28 20:00:00+00:00</td>\n",
       "      <td>17673.21</td>\n",
       "      <td>BINANCE_SPOT_BTC_USDT</td>\n",
       "      <td>-0.007931</td>\n",
       "      <td>-0.008331</td>\n",
       "    </tr>\n",
       "    <tr>\n",
       "      <th>785</th>\n",
       "      <td>2020-11-28 21:00:00+00:00</td>\n",
       "      <td>17741.05</td>\n",
       "      <td>BINANCE_SPOT_BTC_USDT</td>\n",
       "      <td>0.003839</td>\n",
       "      <td>0.003439</td>\n",
       "    </tr>\n",
       "    <tr>\n",
       "      <th>786</th>\n",
       "      <td>2020-11-28 22:00:00+00:00</td>\n",
       "      <td>17760.03</td>\n",
       "      <td>BINANCE_SPOT_BTC_USDT</td>\n",
       "      <td>0.001070</td>\n",
       "      <td>0.000670</td>\n",
       "    </tr>\n",
       "    <tr>\n",
       "      <th>787</th>\n",
       "      <td>2020-11-28 23:00:00+00:00</td>\n",
       "      <td>17719.85</td>\n",
       "      <td>BINANCE_SPOT_BTC_USDT</td>\n",
       "      <td>-0.002262</td>\n",
       "      <td>-0.002662</td>\n",
       "    </tr>\n",
       "  </tbody>\n",
       "</table>\n",
       "<p>672 rows × 5 columns</p>\n",
       "</div>"
      ],
      "text/plain": [
       "            time_period_start  price_close                 ticker       ret  \\\n",
       "116 2020-11-01 00:00:00+00:00     13725.95  BINANCE_SPOT_BTC_USDT -0.004717   \n",
       "117 2020-11-01 01:00:00+00:00     13759.90  BINANCE_SPOT_BTC_USDT  0.002473   \n",
       "118 2020-11-01 02:00:00+00:00     13715.88  BINANCE_SPOT_BTC_USDT -0.003199   \n",
       "119 2020-11-01 03:00:00+00:00     13690.01  BINANCE_SPOT_BTC_USDT -0.001886   \n",
       "120 2020-11-01 04:00:00+00:00     13677.25  BINANCE_SPOT_BTC_USDT -0.000932   \n",
       "..                        ...          ...                    ...       ...   \n",
       "783 2020-11-28 19:00:00+00:00     17814.50  BINANCE_SPOT_BTC_USDT  0.004767   \n",
       "784 2020-11-28 20:00:00+00:00     17673.21  BINANCE_SPOT_BTC_USDT -0.007931   \n",
       "785 2020-11-28 21:00:00+00:00     17741.05  BINANCE_SPOT_BTC_USDT  0.003839   \n",
       "786 2020-11-28 22:00:00+00:00     17760.03  BINANCE_SPOT_BTC_USDT  0.001070   \n",
       "787 2020-11-28 23:00:00+00:00     17719.85  BINANCE_SPOT_BTC_USDT -0.002262   \n",
       "\n",
       "     mean_deviation  \n",
       "116       -0.005116  \n",
       "117        0.002074  \n",
       "118       -0.003599  \n",
       "119       -0.002286  \n",
       "120       -0.001332  \n",
       "..              ...  \n",
       "783        0.004367  \n",
       "784       -0.008331  \n",
       "785        0.003439  \n",
       "786        0.000670  \n",
       "787       -0.002662  \n",
       "\n",
       "[672 rows x 5 columns]"
      ]
     },
     "execution_count": 58,
     "metadata": {},
     "output_type": "execute_result"
    }
   ],
   "source": [
    "# show the mean_deviation for one_range_hurst\n",
    "list_of_dfs[0]"
   ]
  },
  {
   "cell_type": "markdown",
   "metadata": {},
   "source": [
    "#### sum of mean deviations for each dataframe"
   ]
  },
  {
   "cell_type": "code",
   "execution_count": 67,
   "metadata": {},
   "outputs": [],
   "source": [
    "# create the running total of mean_deviation in each df (63)\n",
    "mean_deviation_sums = [sum(df['mean_deviation']) for df in list_of_dfs]\n",
    "max_difference_each_range = [df['mean_deviation'].max() - df['mean_deviation'].min() for df in list_of_dfs]\n",
    "stdev = [df['ret'].std() for df in list_of_dfs]\n",
    "\n",
    "# set new df columns\n",
    "six_three_means['mean_deviation_sums'] = mean_deviation_sums\n",
    "six_three_means['max_difference'] = max_difference_each_range\n",
    "six_three_means['stdev'] = stdev\n",
    "six_three_means['rescaled_range'] = six_three_means['mean_deviation_sums']/six_three_means['stdev']\n"
   ]
  },
  {
   "cell_type": "code",
   "execution_count": 75,
   "metadata": {},
   "outputs": [],
   "source": [
    "six_three_means['range'] = np.nan\n",
    "six_three_means.iloc[31:, -1:] = int(32)\n",
    "six_three_means.iloc[15:31, -1:] = int(16)\n",
    "six_three_means.iloc[7:15, -1:] = int(8)\n",
    "six_three_means.iloc[3:7, -1:] = int(4)\n",
    "six_three_means.iloc[1:3, -1:] = int(2)\n",
    "six_three_means.iloc[0:1, -1:] = int(1)\n"
   ]
  },
  {
   "cell_type": "code",
   "execution_count": 76,
   "metadata": {},
   "outputs": [
    {
     "data": {
      "text/html": [
       "<div>\n",
       "<style scoped>\n",
       "    .dataframe tbody tr th:only-of-type {\n",
       "        vertical-align: middle;\n",
       "    }\n",
       "\n",
       "    .dataframe tbody tr th {\n",
       "        vertical-align: top;\n",
       "    }\n",
       "\n",
       "    .dataframe thead th {\n",
       "        text-align: right;\n",
       "    }\n",
       "</style>\n",
       "<table border=\"1\" class=\"dataframe\">\n",
       "  <thead>\n",
       "    <tr style=\"text-align: right;\">\n",
       "      <th></th>\n",
       "      <th>means for 63 series</th>\n",
       "      <th>start_date</th>\n",
       "      <th>end_date</th>\n",
       "      <th>mean_deviation_sums</th>\n",
       "      <th>max_difference</th>\n",
       "      <th>stdev</th>\n",
       "      <th>rescaled_range</th>\n",
       "      <th>range</th>\n",
       "    </tr>\n",
       "  </thead>\n",
       "  <tbody>\n",
       "    <tr>\n",
       "      <th>0</th>\n",
       "      <td>0.000399</td>\n",
       "      <td>2020-11-01 00:00:00+00:00</td>\n",
       "      <td>2020-11-28 23:00:00+00:00</td>\n",
       "      <td>7.164408e-16</td>\n",
       "      <td>0.079565</td>\n",
       "      <td>0.007264</td>\n",
       "      <td>9.863559e-14</td>\n",
       "      <td>1.0</td>\n",
       "    </tr>\n",
       "    <tr>\n",
       "      <th>1</th>\n",
       "      <td>0.000475</td>\n",
       "      <td>2020-11-01 00:00:00+00:00</td>\n",
       "      <td>2020-11-14 23:00:00+00:00</td>\n",
       "      <td>1.032160e-16</td>\n",
       "      <td>0.043182</td>\n",
       "      <td>0.006202</td>\n",
       "      <td>1.664170e-14</td>\n",
       "      <td>2.0</td>\n",
       "    </tr>\n",
       "    <tr>\n",
       "      <th>2</th>\n",
       "      <td>0.000324</td>\n",
       "      <td>2020-11-15 00:00:00+00:00</td>\n",
       "      <td>2020-11-28 23:00:00+00:00</td>\n",
       "      <td>-7.424616e-16</td>\n",
       "      <td>0.079565</td>\n",
       "      <td>0.008197</td>\n",
       "      <td>-9.057411e-14</td>\n",
       "      <td>2.0</td>\n",
       "    </tr>\n",
       "    <tr>\n",
       "      <th>3</th>\n",
       "      <td>0.000450</td>\n",
       "      <td>2020-11-01 00:00:00+00:00</td>\n",
       "      <td>2020-11-07 23:00:00+00:00</td>\n",
       "      <td>-2.673643e-16</td>\n",
       "      <td>0.041628</td>\n",
       "      <td>0.006718</td>\n",
       "      <td>-3.979927e-14</td>\n",
       "      <td>4.0</td>\n",
       "    </tr>\n",
       "    <tr>\n",
       "      <th>4</th>\n",
       "      <td>0.000499</td>\n",
       "      <td>2020-11-08 00:00:00+00:00</td>\n",
       "      <td>2020-11-14 23:00:00+00:00</td>\n",
       "      <td>-8.673617e-19</td>\n",
       "      <td>0.040180</td>\n",
       "      <td>0.005660</td>\n",
       "      <td>-1.532432e-16</td>\n",
       "      <td>4.0</td>\n",
       "    </tr>\n",
       "    <tr>\n",
       "      <th>...</th>\n",
       "      <td>...</td>\n",
       "      <td>...</td>\n",
       "      <td>...</td>\n",
       "      <td>...</td>\n",
       "      <td>...</td>\n",
       "      <td>...</td>\n",
       "      <td>...</td>\n",
       "      <td>...</td>\n",
       "    </tr>\n",
       "    <tr>\n",
       "      <th>58</th>\n",
       "      <td>-0.000238</td>\n",
       "      <td>2020-11-24 15:00:00+00:00</td>\n",
       "      <td>2020-11-25 11:00:00+00:00</td>\n",
       "      <td>3.767603e-18</td>\n",
       "      <td>0.019206</td>\n",
       "      <td>0.005608</td>\n",
       "      <td>6.717858e-16</td>\n",
       "      <td>32.0</td>\n",
       "    </tr>\n",
       "    <tr>\n",
       "      <th>59</th>\n",
       "      <td>-0.006248</td>\n",
       "      <td>2020-11-25 12:00:00+00:00</td>\n",
       "      <td>2020-11-26 08:00:00+00:00</td>\n",
       "      <td>-2.081668e-17</td>\n",
       "      <td>0.050998</td>\n",
       "      <td>0.012020</td>\n",
       "      <td>-1.731878e-15</td>\n",
       "      <td>32.0</td>\n",
       "    </tr>\n",
       "    <tr>\n",
       "      <th>60</th>\n",
       "      <td>0.001148</td>\n",
       "      <td>2020-11-26 09:00:00+00:00</td>\n",
       "      <td>2020-11-27 05:00:00+00:00</td>\n",
       "      <td>-1.734723e-18</td>\n",
       "      <td>0.056399</td>\n",
       "      <td>0.013615</td>\n",
       "      <td>-1.274169e-16</td>\n",
       "      <td>32.0</td>\n",
       "    </tr>\n",
       "    <tr>\n",
       "      <th>61</th>\n",
       "      <td>-0.000709</td>\n",
       "      <td>2020-11-27 06:00:00+00:00</td>\n",
       "      <td>2020-11-28 02:00:00+00:00</td>\n",
       "      <td>0.000000e+00</td>\n",
       "      <td>0.034939</td>\n",
       "      <td>0.010740</td>\n",
       "      <td>0.000000e+00</td>\n",
       "      <td>32.0</td>\n",
       "    </tr>\n",
       "    <tr>\n",
       "      <th>62</th>\n",
       "      <td>0.002040</td>\n",
       "      <td>2020-11-28 03:00:00+00:00</td>\n",
       "      <td>2020-11-28 23:00:00+00:00</td>\n",
       "      <td>6.938894e-18</td>\n",
       "      <td>0.024722</td>\n",
       "      <td>0.006256</td>\n",
       "      <td>1.109161e-15</td>\n",
       "      <td>32.0</td>\n",
       "    </tr>\n",
       "  </tbody>\n",
       "</table>\n",
       "<p>63 rows × 8 columns</p>\n",
       "</div>"
      ],
      "text/plain": [
       "    means for 63 series                start_date                  end_date  \\\n",
       "0              0.000399 2020-11-01 00:00:00+00:00 2020-11-28 23:00:00+00:00   \n",
       "1              0.000475 2020-11-01 00:00:00+00:00 2020-11-14 23:00:00+00:00   \n",
       "2              0.000324 2020-11-15 00:00:00+00:00 2020-11-28 23:00:00+00:00   \n",
       "3              0.000450 2020-11-01 00:00:00+00:00 2020-11-07 23:00:00+00:00   \n",
       "4              0.000499 2020-11-08 00:00:00+00:00 2020-11-14 23:00:00+00:00   \n",
       "..                  ...                       ...                       ...   \n",
       "58            -0.000238 2020-11-24 15:00:00+00:00 2020-11-25 11:00:00+00:00   \n",
       "59            -0.006248 2020-11-25 12:00:00+00:00 2020-11-26 08:00:00+00:00   \n",
       "60             0.001148 2020-11-26 09:00:00+00:00 2020-11-27 05:00:00+00:00   \n",
       "61            -0.000709 2020-11-27 06:00:00+00:00 2020-11-28 02:00:00+00:00   \n",
       "62             0.002040 2020-11-28 03:00:00+00:00 2020-11-28 23:00:00+00:00   \n",
       "\n",
       "    mean_deviation_sums  max_difference     stdev  rescaled_range  range  \n",
       "0          7.164408e-16        0.079565  0.007264    9.863559e-14    1.0  \n",
       "1          1.032160e-16        0.043182  0.006202    1.664170e-14    2.0  \n",
       "2         -7.424616e-16        0.079565  0.008197   -9.057411e-14    2.0  \n",
       "3         -2.673643e-16        0.041628  0.006718   -3.979927e-14    4.0  \n",
       "4         -8.673617e-19        0.040180  0.005660   -1.532432e-16    4.0  \n",
       "..                  ...             ...       ...             ...    ...  \n",
       "58         3.767603e-18        0.019206  0.005608    6.717858e-16   32.0  \n",
       "59        -2.081668e-17        0.050998  0.012020   -1.731878e-15   32.0  \n",
       "60        -1.734723e-18        0.056399  0.013615   -1.274169e-16   32.0  \n",
       "61         0.000000e+00        0.034939  0.010740    0.000000e+00   32.0  \n",
       "62         6.938894e-18        0.024722  0.006256    1.109161e-15   32.0  \n",
       "\n",
       "[63 rows x 8 columns]"
      ]
     },
     "execution_count": 76,
     "metadata": {},
     "output_type": "execute_result"
    }
   ],
   "source": [
    "six_three_means"
   ]
  },
  {
   "cell_type": "code",
   "execution_count": null,
   "metadata": {},
   "outputs": [],
   "source": []
  }
 ],
 "metadata": {
  "kernelspec": {
   "display_name": "Python 3.7.7 ('base')",
   "language": "python",
   "name": "python3"
  },
  "language_info": {
   "codemirror_mode": {
    "name": "ipython",
    "version": 3
   },
   "file_extension": ".py",
   "mimetype": "text/x-python",
   "name": "python",
   "nbconvert_exporter": "python",
   "pygments_lexer": "ipython3",
   "version": "3.7.7"
  },
  "orig_nbformat": 4,
  "vscode": {
   "interpreter": {
    "hash": "4442a059423b1d8cb2d566f1d7a9e596fd1852f4b9b9e9d6f69b72f942b31330"
   }
  }
 },
 "nbformat": 4,
 "nbformat_minor": 2
}
