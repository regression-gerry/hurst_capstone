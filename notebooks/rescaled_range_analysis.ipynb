{
 "cells": [
  {
   "cell_type": "markdown",
   "metadata": {},
   "source": [
    "# Rescaled Range Analysis"
   ]
  },
  {
   "cell_type": "code",
   "execution_count": 22,
   "metadata": {},
   "outputs": [],
   "source": [
    "import pandas as pd\n",
    "import numpy as np\n",
    "import matplotlib.pyplot as plt\n",
    "# import seaborn as sns\n",
    "from scipy import stats\n",
    "# sns.set_theme()\n",
    "import backtrader as bt\n",
    "import backtrader.feeds as btfeed\n",
    "%matplotlib inline"
   ]
  },
  {
   "cell_type": "code",
   "execution_count": 4,
   "metadata": {},
   "outputs": [
    {
     "data": {
      "text/plain": [
       "array(['BINANCE_SPOT_BTC_USDT', 'BINANCE_SPOT_ETH_USDT',\n",
       "       'BINANCE_SPOT_BNB_USDT', 'BINANCE_SPOT_ADA_USDT',\n",
       "       'BINANCE_SPOT_XRP_USDT', 'BINANCE_SPOT_MATIC_USDT',\n",
       "       'BINANCE_SPOT_SOL_USDT', 'BINANCE_SPOT_UNI_USDT',\n",
       "       'BINANCE_SPOT_AVAX_USDT'], dtype=object)"
      ]
     },
     "execution_count": 4,
     "metadata": {},
     "output_type": "execute_result"
    }
   ],
   "source": [
    "# read spot data\n",
    "df_spot = pd.read_pickle('overall.pkl')\n",
    "df_perp = pd.read_pickle('perp_overall.pkl')\n",
    "df_spot.ticker.unique()"
   ]
  },
  {
   "cell_type": "code",
   "execution_count": 6,
   "metadata": {},
   "outputs": [],
   "source": [
    "def df_select(path: str, ticker: str, start_date: str, data_point_num: int) -> pd.DataFrame:\n",
    "    data = pd.read_pickle(path)\n",
    "    data = data.loc[data['ticker'] == ticker]\n",
    "    data = data.reset_index(drop=True)\n",
    "    data['ret'] = data['price_close'].pct_change()\n",
    "    data.iloc[:, :4] = data.iloc[:, :4].apply(pd.to_datetime, utc=True, errors='coerce')\n",
    "    data = data.loc[data['time_period_start'] >= start_date]\n",
    "    if data_point_num is not None:\n",
    "        data = data.head(data_point_num)\n",
    "    return data[['time_period_start', 'price_close', 'ret']]"
   ]
  },
  {
   "cell_type": "markdown",
   "metadata": {},
   "source": [
    "#### testing cerebro for btc-usdt"
   ]
  },
  {
   "cell_type": "code",
   "execution_count": 24,
   "metadata": {},
   "outputs": [],
   "source": [
    "test_data = df_select('overall.pkl', ticker='BINANCE_SPOT_BTC_USDT', start_date='2020-11-01', data_point_num=672)\n",
    "test_data = test_data[['time_period_start', 'ret']] \n",
    "test_data.set_index('time_period_start', inplace=True)"
   ]
  },
  {
   "cell_type": "code",
   "execution_count": 25,
   "metadata": {},
   "outputs": [
    {
     "data": {
      "text/html": [
       "<div>\n",
       "<style scoped>\n",
       "    .dataframe tbody tr th:only-of-type {\n",
       "        vertical-align: middle;\n",
       "    }\n",
       "\n",
       "    .dataframe tbody tr th {\n",
       "        vertical-align: top;\n",
       "    }\n",
       "\n",
       "    .dataframe thead th {\n",
       "        text-align: right;\n",
       "    }\n",
       "</style>\n",
       "<table border=\"1\" class=\"dataframe\">\n",
       "  <thead>\n",
       "    <tr style=\"text-align: right;\">\n",
       "      <th></th>\n",
       "      <th>ret</th>\n",
       "    </tr>\n",
       "    <tr>\n",
       "      <th>time_period_start</th>\n",
       "      <th></th>\n",
       "    </tr>\n",
       "  </thead>\n",
       "  <tbody>\n",
       "    <tr>\n",
       "      <th>2020-11-01 00:00:00+00:00</th>\n",
       "      <td>-0.004717</td>\n",
       "    </tr>\n",
       "    <tr>\n",
       "      <th>2020-11-01 01:00:00+00:00</th>\n",
       "      <td>0.002473</td>\n",
       "    </tr>\n",
       "    <tr>\n",
       "      <th>2020-11-01 02:00:00+00:00</th>\n",
       "      <td>-0.003199</td>\n",
       "    </tr>\n",
       "    <tr>\n",
       "      <th>2020-11-01 03:00:00+00:00</th>\n",
       "      <td>-0.001886</td>\n",
       "    </tr>\n",
       "    <tr>\n",
       "      <th>2020-11-01 04:00:00+00:00</th>\n",
       "      <td>-0.000932</td>\n",
       "    </tr>\n",
       "  </tbody>\n",
       "</table>\n",
       "</div>"
      ],
      "text/plain": [
       "                                ret\n",
       "time_period_start                  \n",
       "2020-11-01 00:00:00+00:00 -0.004717\n",
       "2020-11-01 01:00:00+00:00  0.002473\n",
       "2020-11-01 02:00:00+00:00 -0.003199\n",
       "2020-11-01 03:00:00+00:00 -0.001886\n",
       "2020-11-01 04:00:00+00:00 -0.000932"
      ]
     },
     "execution_count": 25,
     "metadata": {},
     "output_type": "execute_result"
    }
   ],
   "source": [
    "test_data.head()"
   ]
  },
  {
   "cell_type": "code",
   "execution_count": 26,
   "metadata": {},
   "outputs": [],
   "source": [
    "# https://www.backtrader.com/docu/pandas-datafeed/pandas-datafeed/\n",
    "# \n",
    "class PandasData(bt.feeds.PandasData):\n",
    "    lines = ('time_period_start','ret')\n",
    "    params = (\n",
    "        ('time_period_start', None),\n",
    "        # ('price_close', 'price_close'),\n",
    "        ('ret', 'ret'),\n",
    "    )\n",
    "    \n",
    "class St(bt.Strategy):\n",
    "    def __init__(self):\n",
    "        self.sma = bt.indicators.SimpleMovingAverage(self.data)"
   ]
  },
  {
   "cell_type": "code",
   "execution_count": 27,
   "metadata": {},
   "outputs": [
    {
     "name": "stderr",
     "output_type": "stream",
     "text": [
      "posx and posy should be finite values\n",
      "posx and posy should be finite values\n"
     ]
    },
    {
     "data": {
      "image/png": "[encoded data removed]",
      "text/plain": [
       "<Figure size 640x480 with 3 Axes>"
      ]
     },
     "metadata": {},
     "output_type": "display_data"
    },
    {
     "data": {
      "text/plain": [
       "[[<Figure size 640x480 with 3 Axes>]]"
      ]
     },
     "execution_count": 27,
     "metadata": {},
     "output_type": "execute_result"
    }
   ],
   "source": [
    "cerebro = bt.Cerebro()\n",
    "data = PandasData(dataname=test_data)\n",
    "cerebro.adddata(data)\n",
    "# cerebro.addstrategy(St)\n",
    "cerebro.run()\n",
    "\n",
    "# Plot the result\n",
    "# cerebro.plot(style='bar')\n",
    "cerebro.plot(volume=False,iplot=False)"
   ]
  },
  {
   "cell_type": "code",
   "execution_count": 20,
   "metadata": {},
   "outputs": [
    {
     "data": {
      "application/javascript": "/* Put everything inside the global mpl namespace */\nwindow.mpl = {};\n\n\nmpl.get_websocket_type = function() {\n    if (typeof(WebSocket) !== 'undefined') {\n        return WebSocket;\n    } else if (typeof(MozWebSocket) !== 'undefined') {\n        return MozWebSocket;\n    } else {\n        alert('Your browser does not have WebSocket support. ' +\n              'Please try Chrome, Safari or Firefox ≥ 6. ' +\n              'Firefox 4 and 5 are also supported but you ' +\n              'have to enable WebSockets in about:config.');\n    };\n}\n\nmpl.figure = function(figure_id, websocket, ondownload, parent_element) {\n    this.id = figure_id;\n\n    this.ws = websocket;\n\n    this.supports_binary = (this.ws.binaryType != undefined);\n\n    if (!this.supports_binary) {\n        var warnings = document.getElementById(\"mpl-warnings\");\n        if (warnings) {\n            warnings.style.display = 'block';\n            warnings.textContent = (\n                \"This browser does not support binary websocket messages. \" +\n                    \"Performance may be slow.\");\n        }\n    }\n\n    this.imageObj = new Image();\n\n    this.context = undefined;\n    this.message = undefined;\n    this.canvas = undefined;\n    this.rubberband_canvas = undefined;\n    this.rubberband_context = undefined;\n    this.format_dropdown = undefined;\n\n    this.image_mode = 'full';\n\n    this.root = $('<div/>');\n    this._root_extra_style(this.root)\n    this.root.attr('style', 'display: inline-block');\n\n    $(parent_element).append(this.root);\n\n    this._init_header(this);\n    this._init_canvas(this);\n    this._init_toolbar(this);\n\n    var fig = this;\n\n    this.waiting = false;\n\n    this.ws.onopen =  function () {\n            fig.send_message(\"supports_binary\", {value: fig.supports_binary});\n            fig.send_message(\"send_image_mode\", {});\n            if (mpl.ratio != 1) {\n                fig.send_message(\"set_dpi_ratio\", {'dpi_ratio': mpl.ratio});\n            }\n            fig.send_message(\"refresh\", {});\n        }\n\n    this.imageObj.onload = function() {\n            if (fig.image_mode == 'full') {\n                // Full images could contain transparency (where diff images\n                // almost always do), so we need to clear the canvas so that\n                // there is no ghosting.\n                fig.context.clearRect(0, 0, fig.canvas.width, fig.canvas.height);\n            }\n            fig.context.drawImage(fig.imageObj, 0, 0);\n        };\n\n    this.imageObj.onunload = function() {\n        fig.ws.close();\n    }\n\n    this.ws.onmessage = this._make_on_message_function(this);\n\n    this.ondownload = ondownload;\n}\n\nmpl.figure.prototype._init_header = function() {\n    var titlebar = $(\n        '<div class=\"ui-dialog-titlebar ui-widget-header ui-corner-all ' +\n        'ui-helper-clearfix\"/>');\n    var titletext = $(\n        '<div class=\"ui-dialog-title\" style=\"width: 100%; ' +\n        'text-align: center; padding: 3px;\"/>');\n    titlebar.append(titletext)\n    this.root.append(titlebar);\n    this.header = titletext[0];\n}\n\n\n\nmpl.figure.prototype._canvas_extra_style = function(canvas_div) {\n\n}\n\n\nmpl.figure.prototype._root_extra_style = function(canvas_div) {\n\n}\n\nmpl.figure.prototype._init_canvas = function() {\n    var fig = this;\n\n    var canvas_div = $('<div/>');\n\n    canvas_div.attr('style', 'position: relative; clear: both; outline: 0');\n\n    function canvas_keyboard_event(event) {\n        return fig.key_event(event, event['data']);\n    }\n\n    canvas_div.keydown('key_press', canvas_keyboard_event);\n    canvas_div.keyup('key_release', canvas_keyboard_event);\n    this.canvas_div = canvas_div\n    this._canvas_extra_style(canvas_div)\n    this.root.append(canvas_div);\n\n    var canvas = $('<canvas/>');\n    canvas.addClass('mpl-canvas');\n    canvas.attr('style', \"left: 0; top: 0; z-index: 0; outline: 0\")\n\n    this.canvas = canvas[0];\n    this.context = canvas[0].getContext(\"2d\");\n\n    var backingStore = this.context.backingStorePixelRatio ||\n\tthis.context.webkitBackingStorePixelRatio ||\n\tthis.context.mozBackingStorePixelRatio ||\n\tthis.context.msBackingStorePixelRatio ||\n\tthis.context.oBackingStorePixelRatio ||\n\tthis.context.backingStorePixelRatio || 1;\n\n    mpl.ratio = (window.devicePixelRatio || 1) / backingStore;\n\n    var rubberband = $('<canvas/>');\n    rubberband.attr('style', \"position: absolute; left: 0; top: 0; z-index: 1;\")\n\n    var pass_mouse_events = true;\n\n    canvas_div.resizable({\n        start: function(event, ui) {\n            pass_mouse_events = false;\n        },\n        resize: function(event, ui) {\n            fig.request_resize(ui.size.width, ui.size.height);\n        },\n        stop: function(event, ui) {\n            pass_mouse_events = true;\n            fig.request_resize(ui.size.width, ui.size.height);\n        },\n    });\n\n    function mouse_event_fn(event) {\n        if (pass_mouse_events)\n            return fig.mouse_event(event, event['data']);\n    }\n\n    rubberband.mousedown('button_press', mouse_event_fn);\n    rubberband.mouseup('button_release', mouse_event_fn);\n    // Throttle sequential mouse events to 1 every 20ms.\n    rubberband.mousemove('motion_notify', mouse_event_fn);\n\n    rubberband.mouseenter('figure_enter', mouse_event_fn);\n    rubberband.mouseleave('figure_leave', mouse_event_fn);\n\n    canvas_div.on(\"wheel\", function (event) {\n        event = event.originalEvent;\n        event['data'] = 'scroll'\n        if (event.deltaY < 0) {\n            event.step = 1;\n        } else {\n            event.step = -1;\n        }\n        mouse_event_fn(event);\n    });\n\n    canvas_div.append(canvas);\n    canvas_div.append(rubberband);\n\n    this.rubberband = rubberband;\n    this.rubberband_canvas = rubberband[0];\n    this.rubberband_context = rubberband[0].getContext(\"2d\");\n    this.rubberband_context.strokeStyle = \"#000000\";\n\n    this._resize_canvas = function(width, height) {\n        // Keep the size of the canvas, canvas container, and rubber band\n        // canvas in synch.\n        canvas_div.css('width', width)\n        canvas_div.css('height', height)\n\n        canvas.attr('width', width * mpl.ratio);\n        canvas.attr('height', height * mpl.ratio);\n        canvas.attr('style', 'width: ' + width + 'px; height: ' + height + 'px;');\n\n        rubberband.attr('width', width);\n        rubberband.attr('height', height);\n    }\n\n    // Set the figure to an initial 600x600px, this will subsequently be updated\n    // upon first draw.\n    this._resize_canvas(600, 600);\n\n    // Disable right mouse context menu.\n    $(this.rubberband_canvas).bind(\"contextmenu\",function(e){\n        return false;\n    });\n\n    function set_focus () {\n        canvas.focus();\n        canvas_div.focus();\n    }\n\n    window.setTimeout(set_focus, 100);\n}\n\nmpl.figure.prototype._init_toolbar = function() {\n    var fig = this;\n\n    var nav_element = $('<div/>');\n    nav_element.attr('style', 'width: 100%');\n    this.root.append(nav_element);\n\n    // Define a callback function for later on.\n    function toolbar_event(event) {\n        return fig.toolbar_button_onclick(event['data']);\n    }\n    function toolbar_mouse_event(event) {\n        return fig.toolbar_button_onmouseover(event['data']);\n    }\n\n    for(var toolbar_ind in mpl.toolbar_items) {\n        var name = mpl.toolbar_items[toolbar_ind][0];\n        var tooltip = mpl.toolbar_items[toolbar_ind][1];\n        var image = mpl.toolbar_items[toolbar_ind][2];\n        var method_name = mpl.toolbar_items[toolbar_ind][3];\n\n        if (!name) {\n            // put a spacer in here.\n            continue;\n        }\n        var button = $('<button/>');\n        button.addClass('ui-button ui-widget ui-state-default ui-corner-all ' +\n                        'ui-button-icon-only');\n        button.attr('role', 'button');\n        button.attr('aria-disabled', 'false');\n        button.click(method_name, toolbar_event);\n        button.mouseover(tooltip, toolbar_mouse_event);\n\n        var icon_img = $('<span/>');\n        icon_img.addClass('ui-button-icon-primary ui-icon');\n        icon_img.addClass(image);\n        icon_img.addClass('ui-corner-all');\n\n        var tooltip_span = $('<span/>');\n        tooltip_span.addClass('ui-button-text');\n        tooltip_span.html(tooltip);\n\n        button.append(icon_img);\n        button.append(tooltip_span);\n\n        nav_element.append(button);\n    }\n\n    var fmt_picker_span = $('<span/>');\n\n    var fmt_picker = $('<select/>');\n    fmt_picker.addClass('mpl-toolbar-option ui-widget ui-widget-content');\n    fmt_picker_span.append(fmt_picker);\n    nav_element.append(fmt_picker_span);\n    this.format_dropdown = fmt_picker[0];\n\n    for (var ind in mpl.extensions) {\n        var fmt = mpl.extensions[ind];\n        var option = $(\n            '<option/>', {selected: fmt === mpl.default_extension}).html(fmt);\n        fmt_picker.append(option);\n    }\n\n    // Add hover states to the ui-buttons\n    $( \".ui-button\" ).hover(\n        function() { $(this).addClass(\"ui-state-hover\");},\n        function() { $(this).removeClass(\"ui-state-hover\");}\n    );\n\n    var status_bar = $('<span class=\"mpl-message\"/>');\n    nav_element.append(status_bar);\n    this.message = status_bar[0];\n}\n\nmpl.figure.prototype.request_resize = function(x_pixels, y_pixels) {\n    // Request matplotlib to resize the figure. Matplotlib will then trigger a resize in the client,\n    // which will in turn request a refresh of the image.\n    this.send_message('resize', {'width': x_pixels, 'height': y_pixels});\n}\n\nmpl.figure.prototype.send_message = function(type, properties) {\n    properties['type'] = type;\n    properties['figure_id'] = this.id;\n    this.ws.send(JSON.stringify(properties));\n}\n\nmpl.figure.prototype.send_draw_message = function() {\n    if (!this.waiting) {\n        this.waiting = true;\n        this.ws.send(JSON.stringify({type: \"draw\", figure_id: this.id}));\n    }\n}\n\n\nmpl.figure.prototype.handle_save = function(fig, msg) {\n    var format_dropdown = fig.format_dropdown;\n    var format = format_dropdown.options[format_dropdown.selectedIndex].value;\n    fig.ondownload(fig, format);\n}\n\n\nmpl.figure.prototype.handle_resize = function(fig, msg) {\n    var size = msg['size'];\n    if (size[0] != fig.canvas.width || size[1] != fig.canvas.height) {\n        fig._resize_canvas(size[0], size[1]);\n        fig.send_message(\"refresh\", {});\n    };\n}\n\nmpl.figure.prototype.handle_rubberband = function(fig, msg) {\n    var x0 = msg['x0'] / mpl.ratio;\n    var y0 = (fig.canvas.height - msg['y0']) / mpl.ratio;\n    var x1 = msg['x1'] / mpl.ratio;\n    var y1 = (fig.canvas.height - msg['y1']) / mpl.ratio;\n    x0 = Math.floor(x0) + 0.5;\n    y0 = Math.floor(y0) + 0.5;\n    x1 = Math.floor(x1) + 0.5;\n    y1 = Math.floor(y1) + 0.5;\n    var min_x = Math.min(x0, x1);\n    var min_y = Math.min(y0, y1);\n    var width = Math.abs(x1 - x0);\n    var height = Math.abs(y1 - y0);\n\n    fig.rubberband_context.clearRect(\n        0, 0, fig.canvas.width / mpl.ratio, fig.canvas.height / mpl.ratio);\n\n    fig.rubberband_context.strokeRect(min_x, min_y, width, height);\n}\n\nmpl.figure.prototype.handle_figure_label = function(fig, msg) {\n    // Updates the figure title.\n    fig.header.textContent = msg['label'];\n}\n\nmpl.figure.prototype.handle_cursor = function(fig, msg) {\n    var cursor = msg['cursor'];\n    switch(cursor)\n    {\n    case 0:\n        cursor = 'pointer';\n        break;\n    case 1:\n        cursor = 'default';\n        break;\n    case 2:\n        cursor = 'crosshair';\n        break;\n    case 3:\n        cursor = 'move';\n        break;\n    }\n    fig.rubberband_canvas.style.cursor = cursor;\n}\n\nmpl.figure.prototype.handle_message = function(fig, msg) {\n    fig.message.textContent = msg['message'];\n}\n\nmpl.figure.prototype.handle_draw = function(fig, msg) {\n    // Request the server to send over a new figure.\n    fig.send_draw_message();\n}\n\nmpl.figure.prototype.handle_image_mode = function(fig, msg) {\n    fig.image_mode = msg['mode'];\n}\n\nmpl.figure.prototype.updated_canvas_event = function() {\n    // Called whenever the canvas gets updated.\n    this.send_message(\"ack\", {});\n}\n\n// A function to construct a web socket function for onmessage handling.\n// Called in the figure constructor.\nmpl.figure.prototype._make_on_message_function = function(fig) {\n    return function socket_on_message(evt) {\n        if (evt.data instanceof Blob) {\n            /* FIXME: We get \"Resource interpreted as Image but\n             * transferred with MIME type text/plain:\" errors on\n             * Chrome.  But how to set the MIME type?  It doesn't seem\n             * to be part of the websocket stream */\n            evt.data.type = \"image/png\";\n\n            /* Free the memory for the previous frames */\n            if (fig.imageObj.src) {\n                (window.URL || window.webkitURL).revokeObjectURL(\n                    fig.imageObj.src);\n            }\n\n            fig.imageObj.src = (window.URL || window.webkitURL).createObjectURL(\n                evt.data);\n            fig.updated_canvas_event();\n            fig.waiting = false;\n            return;\n        }\n        else if (typeof evt.data === 'string' && evt.data.slice(0, 21) == \"data:image/png;base64\") {\n            fig.imageObj.src = evt.data;\n            fig.updated_canvas_event();\n            fig.waiting = false;\n            return;\n        }\n\n        var msg = JSON.parse(evt.data);\n        var msg_type = msg['type'];\n\n        // Call the  \"handle_{type}\" callback, which takes\n        // the figure and JSON message as its only arguments.\n        try {\n            var callback = fig[\"handle_\" + msg_type];\n        } catch (e) {\n            console.log(\"No handler for the '\" + msg_type + \"' message type: \", msg);\n            return;\n        }\n\n        if (callback) {\n            try {\n                // console.log(\"Handling '\" + msg_type + \"' message: \", msg);\n                callback(fig, msg);\n            } catch (e) {\n                console.log(\"Exception inside the 'handler_\" + msg_type + \"' callback:\", e, e.stack, msg);\n            }\n        }\n    };\n}\n\n// from http://stackoverflow.com/questions/1114465/getting-mouse-location-in-canvas\nmpl.findpos = function(e) {\n    //this section is from http://www.quirksmode.org/js/events_properties.html\n    var targ;\n    if (!e)\n        e = window.event;\n    if (e.target)\n        targ = e.target;\n    else if (e.srcElement)\n        targ = e.srcElement;\n    if (targ.nodeType == 3) // defeat Safari bug\n        targ = targ.parentNode;\n\n    // jQuery normalizes the pageX and pageY\n    // pageX,Y are the mouse positions relative to the document\n    // offset() returns the position of the element relative to the document\n    var x = e.pageX - $(targ).offset().left;\n    var y = e.pageY - $(targ).offset().top;\n\n    return {\"x\": x, \"y\": y};\n};\n\n/*\n * return a copy of an object with only non-object keys\n * we need this to avoid circular references\n * http://stackoverflow.com/a/24161582/3208463\n */\nfunction simpleKeys (original) {\n  return Object.keys(original).reduce(function (obj, key) {\n    if (typeof original[key] !== 'object')\n        obj[key] = original[key]\n    return obj;\n  }, {});\n}\n\nmpl.figure.prototype.mouse_event = function(event, name) {\n    var canvas_pos = mpl.findpos(event)\n\n    if (name === 'button_press')\n    {\n        this.canvas.focus();\n        this.canvas_div.focus();\n    }\n\n    var x = canvas_pos.x * mpl.ratio;\n    var y = canvas_pos.y * mpl.ratio;\n\n    this.send_message(name, {x: x, y: y, button: event.button,\n                             step: event.step,\n                             guiEvent: simpleKeys(event)});\n\n    /* This prevents the web browser from automatically changing to\n     * the text insertion cursor when the button is pressed.  We want\n     * to control all of the cursor setting manually through the\n     * 'cursor' event from matplotlib */\n    event.preventDefault();\n    return false;\n}\n\nmpl.figure.prototype._key_event_extra = function(event, name) {\n    // Handle any extra behaviour associated with a key event\n}\n\nmpl.figure.prototype.key_event = function(event, name) {\n\n    // Prevent repeat events\n    if (name == 'key_press')\n    {\n        if (event.which === this._key)\n            return;\n        else\n            this._key = event.which;\n    }\n    if (name == 'key_release')\n        this._key = null;\n\n    var value = '';\n    if (event.ctrlKey && event.which != 17)\n        value += \"ctrl+\";\n    if (event.altKey && event.which != 18)\n        value += \"alt+\";\n    if (event.shiftKey && event.which != 16)\n        value += \"shift+\";\n\n    value += 'k';\n    value += event.which.toString();\n\n    this._key_event_extra(event, name);\n\n    this.send_message(name, {key: value,\n                             guiEvent: simpleKeys(event)});\n    return false;\n}\n\nmpl.figure.prototype.toolbar_button_onclick = function(name) {\n    if (name == 'download') {\n        this.handle_save(this, null);\n    } else {\n        this.send_message(\"toolbar_button\", {name: name});\n    }\n};\n\nmpl.figure.prototype.toolbar_button_onmouseover = function(tooltip) {\n    this.message.textContent = tooltip;\n};\nmpl.toolbar_items = [[\"Home\", \"Reset original view\", \"fa fa-home icon-home\", \"home\"], [\"Back\", \"Back to previous view\", \"fa fa-arrow-left icon-arrow-left\", \"back\"], [\"Forward\", \"Forward to next view\", \"fa fa-arrow-right icon-arrow-right\", \"forward\"], [\"\", \"\", \"\", \"\"], [\"Pan\", \"Pan axes with left mouse, zoom with right\", \"fa fa-arrows icon-move\", \"pan\"], [\"Zoom\", \"Zoom to rectangle\", \"fa fa-square-o icon-check-empty\", \"zoom\"], [\"\", \"\", \"\", \"\"], [\"Download\", \"Download plot\", \"fa fa-floppy-o icon-save\", \"download\"]];\n\nmpl.extensions = [\"eps\", \"jpeg\", \"pdf\", \"png\", \"ps\", \"raw\", \"svg\", \"tif\"];\n\nmpl.default_extension = \"png\";var comm_websocket_adapter = function(comm) {\n    // Create a \"websocket\"-like object which calls the given IPython comm\n    // object with the appropriate methods. Currently this is a non binary\n    // socket, so there is still some room for performance tuning.\n    var ws = {};\n\n    ws.close = function() {\n        comm.close()\n    };\n    ws.send = function(m) {\n        //console.log('sending', m);\n        comm.send(m);\n    };\n    // Register the callback with on_msg.\n    comm.on_msg(function(msg) {\n        //console.log('receiving', msg['content']['data'], msg);\n        // Pass the mpl event to the overridden (by mpl) onmessage function.\n        ws.onmessage(msg['content']['data'])\n    });\n    return ws;\n}\n\nmpl.mpl_figure_comm = function(comm, msg) {\n    // This is the function which gets called when the mpl process\n    // starts-up an IPython Comm through the \"matplotlib\" channel.\n\n    var id = msg.content.data.id;\n    // Get hold of the div created by the display call when the Comm\n    // socket was opened in Python.\n    var element = $(\"#\" + id);\n    var ws_proxy = comm_websocket_adapter(comm)\n\n    function ondownload(figure, format) {\n        window.open(figure.imageObj.src);\n    }\n\n    var fig = new mpl.figure(id, ws_proxy,\n                           ondownload,\n                           element.get(0));\n\n    // Call onopen now - mpl needs it, as it is assuming we've passed it a real\n    // web socket which is closed, not our websocket->open comm proxy.\n    ws_proxy.onopen();\n\n    fig.parent_element = element.get(0);\n    fig.cell_info = mpl.find_output_cell(\"<div id='\" + id + \"'></div>\");\n    if (!fig.cell_info) {\n        console.error(\"Failed to find cell for figure\", id, fig);\n        return;\n    }\n\n    var output_index = fig.cell_info[2]\n    var cell = fig.cell_info[0];\n\n};\n\nmpl.figure.prototype.handle_close = function(fig, msg) {\n    var width = fig.canvas.width/mpl.ratio\n    fig.root.unbind('remove')\n\n    // Update the output cell to use the data from the current canvas.\n    fig.push_to_output();\n    var dataURL = fig.canvas.toDataURL();\n    // Re-enable the keyboard manager in IPython - without this line, in FF,\n    // the notebook keyboard shortcuts fail.\n    IPython.keyboard_manager.enable()\n    $(fig.parent_element).html('<img src=\"' + dataURL + '\" width=\"' + width + '\">');\n    fig.close_ws(fig, msg);\n}\n\nmpl.figure.prototype.close_ws = function(fig, msg){\n    fig.send_message('closing', msg);\n    // fig.ws.close()\n}\n\nmpl.figure.prototype.push_to_output = function(remove_interactive) {\n    // Turn the data on the canvas into data in the output cell.\n    var width = this.canvas.width/mpl.ratio\n    var dataURL = this.canvas.toDataURL();\n    this.cell_info[1]['text/html'] = '<img src=\"' + dataURL + '\" width=\"' + width + '\">';\n}\n\nmpl.figure.prototype.updated_canvas_event = function() {\n    // Tell IPython that the notebook contents must change.\n    IPython.notebook.set_dirty(true);\n    this.send_message(\"ack\", {});\n    var fig = this;\n    // Wait a second, then push the new image to the DOM so\n    // that it is saved nicely (might be nice to debounce this).\n    setTimeout(function () { fig.push_to_output() }, 1000);\n}\n\nmpl.figure.prototype._init_toolbar = function() {\n    var fig = this;\n\n    var nav_element = $('<div/>');\n    nav_element.attr('style', 'width: 100%');\n    this.root.append(nav_element);\n\n    // Define a callback function for later on.\n    function toolbar_event(event) {\n        return fig.toolbar_button_onclick(event['data']);\n    }\n    function toolbar_mouse_event(event) {\n        return fig.toolbar_button_onmouseover(event['data']);\n    }\n\n    for(var toolbar_ind in mpl.toolbar_items){\n        var name = mpl.toolbar_items[toolbar_ind][0];\n        var tooltip = mpl.toolbar_items[toolbar_ind][1];\n        var image = mpl.toolbar_items[toolbar_ind][2];\n        var method_name = mpl.toolbar_items[toolbar_ind][3];\n\n        if (!name) { continue; };\n\n        var button = $('<button class=\"btn btn-default\" href=\"#\" title=\"' + name + '\"><i class=\"fa ' + image + ' fa-lg\"></i></button>');\n        button.click(method_name, toolbar_event);\n        button.mouseover(tooltip, toolbar_mouse_event);\n        nav_element.append(button);\n    }\n\n    // Add the status bar.\n    var status_bar = $('<span class=\"mpl-message\" style=\"text-align:right; float: right;\"/>');\n    nav_element.append(status_bar);\n    this.message = status_bar[0];\n\n    // Add the close button to the window.\n    var buttongrp = $('<div class=\"btn-group inline pull-right\"></div>');\n    var button = $('<button class=\"btn btn-mini btn-primary\" href=\"#\" title=\"Stop Interaction\"><i class=\"fa fa-power-off icon-remove icon-large\"></i></button>');\n    button.click(function (evt) { fig.handle_close(fig, {}); } );\n    button.mouseover('Stop Interaction', toolbar_mouse_event);\n    buttongrp.append(button);\n    var titlebar = this.root.find($('.ui-dialog-titlebar'));\n    titlebar.prepend(buttongrp);\n}\n\nmpl.figure.prototype._root_extra_style = function(el){\n    var fig = this\n    el.on(\"remove\", function(){\n\tfig.close_ws(fig, {});\n    });\n}\n\nmpl.figure.prototype._canvas_extra_style = function(el){\n    // this is important to make the div 'focusable\n    el.attr('tabindex', 0)\n    // reach out to IPython and tell the keyboard manager to turn it's self\n    // off when our div gets focus\n\n    // location in version 3\n    if (IPython.notebook.keyboard_manager) {\n        IPython.notebook.keyboard_manager.register_events(el);\n    }\n    else {\n        // location in version 2\n        IPython.keyboard_manager.register_events(el);\n    }\n\n}\n\nmpl.figure.prototype._key_event_extra = function(event, name) {\n    var manager = IPython.notebook.keyboard_manager;\n    if (!manager)\n        manager = IPython.keyboard_manager;\n\n    // Check for shift+enter\n    if (event.shiftKey && event.which == 13) {\n        this.canvas_div.blur();\n        // select the cell after this one\n        var index = IPython.notebook.find_cell_index(this.cell_info[0]);\n        IPython.notebook.select(index + 1);\n    }\n}\n\nmpl.figure.prototype.handle_save = function(fig, msg) {\n    fig.ondownload(fig, null);\n}\n\n\nmpl.find_output_cell = function(html_output) {\n    // Return the cell and output element which can be found *uniquely* in the notebook.\n    // Note - this is a bit hacky, but it is done because the \"notebook_saving.Notebook\"\n    // IPython event is triggered only after the cells have been serialised, which for\n    // our purposes (turning an active figure into a static one), is too late.\n    var cells = IPython.notebook.get_cells();\n    var ncells = cells.length;\n    for (var i=0; i<ncells; i++) {\n        var cell = cells[i];\n        if (cell.cell_type === 'code'){\n            for (var j=0; j<cell.output_area.outputs.length; j++) {\n                var data = cell.output_area.outputs[j];\n                if (data.data) {\n                    // IPython >= 3 moved mimebundle to data attribute of output\n                    data = data.data;\n                }\n                if (data['text/html'] == html_output) {\n                    return [cell, data, j];\n                }\n            }\n        }\n    }\n}\n\n// Register the function which deals with the matplotlib target/channel.\n// The kernel may be null if the page has been refreshed.\nif (IPython.notebook.kernel != null) {\n    IPython.notebook.kernel.comm_manager.register_target('matplotlib', mpl.mpl_figure_comm);\n}\n",
      "text/plain": [
       "<IPython.core.display.Javascript object>"
      ]
     },
     "metadata": {},
     "output_type": "display_data"
    },
    {
     "data": {
      "text/html": [
       "<div id='e78d0385-c8ce-4c68-8072-5790a7186d74'></div>"
      ],
      "text/plain": [
       "<IPython.core.display.HTML object>"
      ]
     },
     "metadata": {},
     "output_type": "display_data"
    },
    {
     "data": {
      "text/plain": [
       "[[<Figure size 640x480 with 3 Axes>]]"
      ]
     },
     "execution_count": 20,
     "metadata": {},
     "output_type": "execute_result"
    }
   ],
   "source": [
    "cerebro.plot(volume=False)"
   ]
  },
  {
   "cell_type": "markdown",
   "metadata": {},
   "source": [
    "#### Returns for 1 series and Hurst exponent"
   ]
  },
  {
   "cell_type": "code",
   "execution_count": 6,
   "metadata": {},
   "outputs": [],
   "source": [
    "# open pickle file and read which ticker from which start - end date\n",
    "def df_select(path: str, ticker: str, start_date: str, data_point_num: int) -> pd.DataFrame:\n",
    "    data = pd.read_pickle(path)\n",
    "    data = data.loc[data['ticker'] == ticker]\n",
    "    data = data.reset_index(drop=True)\n",
    "    data['ret'] = data['price_close'].pct_change()\n",
    "    data.iloc[:, :4] = data.iloc[:, :4].apply(pd.to_datetime, utc=True, errors='coerce')\n",
    "    data = data.loc[data['time_period_start'] >= start_date]\n",
    "    if data_point_num is not None:\n",
    "        data = data.head(data_point_num)\n",
    "    return data[['time_period_start', 'price_close', 'ret']]"
   ]
  },
  {
   "cell_type": "code",
   "execution_count": 10,
   "metadata": {},
   "outputs": [],
   "source": [
    "ethusdt = df_select(\n",
    "    path='overall.pkl',\n",
    "    ticker='BINANCE_SPOT_MATIC_USDT',\n",
    "    start_date='2020-11-01',\n",
    "    data_point_num=int(672)\n",
    ")"
   ]
  },
  {
   "cell_type": "code",
   "execution_count": 8,
   "metadata": {},
   "outputs": [],
   "source": [
    "# df -> dataframe with returns\n",
    "# len_of_df -> 1,2,6,12 months\n",
    "# ranges -> [1,2,4,8,16,32]\n",
    "# function for rescaled range \n",
    "\n",
    "def rescaled_range(df, ranges):\n",
    "    # create list of dfs\n",
    "    # pull all dfs into 1 list\n",
    "    list_of_dfs = []\n",
    "\n",
    "    # loop through each range and split accordingly\n",
    "    for r in ranges:\n",
    "        range_dfs = np.array_split(df, r)\n",
    "        for dataframe in range_dfs:\n",
    "            list_of_dfs.append(dataframe)\n",
    "    \n",
    "    # get the mean deviation (Xi - m) \n",
    "    for df in list_of_dfs:\n",
    "        df['mean_deviation'] = df['ret'] - df['ret'].mean()\n",
    "        \n",
    "    # populate another dataframe with its values\n",
    "    hurst_attributes = pd.DataFrame()\n",
    "    # find the mean\n",
    "    hurst_attributes['mean'] = [df['ret'].mean() for df in list_of_dfs]\n",
    "    hurst_attributes['sum_mean_deviation'] = [sum(df['mean_deviation']) for df in list_of_dfs]\n",
    "    hurst_attributes['max_difference']  = [df['mean_deviation'].max() - df['mean_deviation'].min() for df in list_of_dfs]\n",
    "    hurst_attributes['stdev']  = [df['ret'].std() for df in list_of_dfs]\n",
    "    hurst_attributes['rescaled_range'] = hurst_attributes['max_difference']/hurst_attributes['stdev']\n",
    "    \n",
    "    # set the ranges\n",
    "    hurst_attributes['range'] = np.nan\n",
    "    hurst_attributes.iloc[31:, -1:] = int(32)\n",
    "    hurst_attributes.iloc[15:31, -1:] = int(16)\n",
    "    hurst_attributes.iloc[7:15, -1:] = int(8)\n",
    "    hurst_attributes.iloc[3:7, -1:] = int(4)\n",
    "    hurst_attributes.iloc[1:3, -1:] = int(2)\n",
    "    hurst_attributes.iloc[0:1, -1:] = int(1)\n",
    "    \n",
    "    # another new dataframe with the average rescaled range for list of rance\n",
    "    avg_rescaled_range = [hurst_attributes.loc[hurst_attributes['range'] == range_value, 'rescaled_range'].mean() for range_value in hurst_attributes.range.unique()]\n",
    "    range_size = list(dict.fromkeys([len(df) for df in list_of_dfs]))\n",
    "    hurst_plot_df = pd.DataFrame(zip(avg_rescaled_range, range_size), columns=['rescaled_range_mean', 'size']).apply(np.log)\n",
    "    \n",
    "    return hurst_attributes, hurst_plot_df"
   ]
  },
  {
   "cell_type": "code",
   "execution_count": 12,
   "metadata": {},
   "outputs": [
    {
     "data": {
      "text/html": [
       "<div>\n",
       "<style scoped>\n",
       "    .dataframe tbody tr th:only-of-type {\n",
       "        vertical-align: middle;\n",
       "    }\n",
       "\n",
       "    .dataframe tbody tr th {\n",
       "        vertical-align: top;\n",
       "    }\n",
       "\n",
       "    .dataframe thead th {\n",
       "        text-align: right;\n",
       "    }\n",
       "</style>\n",
       "<table border=\"1\" class=\"dataframe\">\n",
       "  <thead>\n",
       "    <tr style=\"text-align: right;\">\n",
       "      <th></th>\n",
       "      <th>rescaled_range_mean</th>\n",
       "      <th>size</th>\n",
       "    </tr>\n",
       "  </thead>\n",
       "  <tbody>\n",
       "    <tr>\n",
       "      <th>0</th>\n",
       "      <td>2.327748</td>\n",
       "      <td>6.510258</td>\n",
       "    </tr>\n",
       "    <tr>\n",
       "      <th>1</th>\n",
       "      <td>2.257286</td>\n",
       "      <td>5.817111</td>\n",
       "    </tr>\n",
       "    <tr>\n",
       "      <th>2</th>\n",
       "      <td>2.082313</td>\n",
       "      <td>5.123964</td>\n",
       "    </tr>\n",
       "    <tr>\n",
       "      <th>3</th>\n",
       "      <td>1.843894</td>\n",
       "      <td>4.430817</td>\n",
       "    </tr>\n",
       "    <tr>\n",
       "      <th>4</th>\n",
       "      <td>1.651434</td>\n",
       "      <td>3.737670</td>\n",
       "    </tr>\n",
       "    <tr>\n",
       "      <th>5</th>\n",
       "      <td>1.436006</td>\n",
       "      <td>3.044522</td>\n",
       "    </tr>\n",
       "  </tbody>\n",
       "</table>\n",
       "</div>"
      ],
      "text/plain": [
       "   rescaled_range_mean      size\n",
       "0             2.327748  6.510258\n",
       "1             2.257286  5.817111\n",
       "2             2.082313  5.123964\n",
       "3             1.843894  4.430817\n",
       "4             1.651434  3.737670\n",
       "5             1.436006  3.044522"
      ]
     },
     "execution_count": 12,
     "metadata": {},
     "output_type": "execute_result"
    }
   ],
   "source": [
    "test = rescaled_range(ethusdt, ranges=[1,2,4,8,16,32])\n",
    "test[1]"
   ]
  },
  {
   "cell_type": "code",
   "execution_count": 13,
   "metadata": {},
   "outputs": [],
   "source": [
    "# plotting function\n",
    "def hurst_plot(df):\n",
    "    # get coeffs of linear fit\n",
    "    slope, intercept, r_value, p_value, std_err = stats.linregress(df['size'],df['rescaled_range_mean'])\n",
    "\n",
    "    # use line_kws to set line label for legend\n",
    "    ax = sns.regplot(x=\"size\", y=\"rescaled_range_mean\", data=df, color='b', \n",
    "    line_kws={'label':\"y={0:.1f}x+{1:.1f}\".format(slope,intercept)})\n",
    "\n",
    "    # plot legend\n",
    "    ax.legend()\n",
    "\n",
    "    plt.show()"
   ]
  },
  {
   "cell_type": "code",
   "execution_count": 14,
   "metadata": {},
   "outputs": [
    {
     "data": {
      "image/png": "[encoded data removed]",
      "text/plain": [
       "<Figure size 432x288 with 1 Axes>"
      ]
     },
     "metadata": {},
     "output_type": "display_data"
    }
   ],
   "source": [
    "hurst_plot(test[1])"
   ]
  },
  {
   "cell_type": "code",
   "execution_count": 57,
   "metadata": {},
   "outputs": [
    {
     "data": {
      "text/html": [
       "<div>\n",
       "<style scoped>\n",
       "    .dataframe tbody tr th:only-of-type {\n",
       "        vertical-align: middle;\n",
       "    }\n",
       "\n",
       "    .dataframe tbody tr th {\n",
       "        vertical-align: top;\n",
       "    }\n",
       "\n",
       "    .dataframe thead th {\n",
       "        text-align: right;\n",
       "    }\n",
       "</style>\n",
       "<table border=\"1\" class=\"dataframe\">\n",
       "  <thead>\n",
       "    <tr style=\"text-align: right;\">\n",
       "      <th></th>\n",
       "      <th>time_period_start</th>\n",
       "      <th>price_close</th>\n",
       "      <th>ret</th>\n",
       "    </tr>\n",
       "  </thead>\n",
       "  <tbody>\n",
       "    <tr>\n",
       "      <th>116</th>\n",
       "      <td>2020-11-01 00:00:00+00:00</td>\n",
       "      <td>13725.95</td>\n",
       "      <td>-0.004717</td>\n",
       "    </tr>\n",
       "    <tr>\n",
       "      <th>117</th>\n",
       "      <td>2020-11-01 01:00:00+00:00</td>\n",
       "      <td>13759.90</td>\n",
       "      <td>0.002473</td>\n",
       "    </tr>\n",
       "    <tr>\n",
       "      <th>118</th>\n",
       "      <td>2020-11-01 02:00:00+00:00</td>\n",
       "      <td>13715.88</td>\n",
       "      <td>-0.003199</td>\n",
       "    </tr>\n",
       "    <tr>\n",
       "      <th>119</th>\n",
       "      <td>2020-11-01 03:00:00+00:00</td>\n",
       "      <td>13690.01</td>\n",
       "      <td>-0.001886</td>\n",
       "    </tr>\n",
       "    <tr>\n",
       "      <th>120</th>\n",
       "      <td>2020-11-01 04:00:00+00:00</td>\n",
       "      <td>13677.25</td>\n",
       "      <td>-0.000932</td>\n",
       "    </tr>\n",
       "    <tr>\n",
       "      <th>...</th>\n",
       "      <td>...</td>\n",
       "      <td>...</td>\n",
       "      <td>...</td>\n",
       "    </tr>\n",
       "    <tr>\n",
       "      <th>831</th>\n",
       "      <td>2020-11-30 20:00:00+00:00</td>\n",
       "      <td>19439.48</td>\n",
       "      <td>0.009320</td>\n",
       "    </tr>\n",
       "    <tr>\n",
       "      <th>832</th>\n",
       "      <td>2020-11-30 21:00:00+00:00</td>\n",
       "      <td>19381.25</td>\n",
       "      <td>-0.002995</td>\n",
       "    </tr>\n",
       "    <tr>\n",
       "      <th>833</th>\n",
       "      <td>2020-11-30 22:00:00+00:00</td>\n",
       "      <td>19499.99</td>\n",
       "      <td>0.006127</td>\n",
       "    </tr>\n",
       "    <tr>\n",
       "      <th>834</th>\n",
       "      <td>2020-11-30 23:00:00+00:00</td>\n",
       "      <td>19695.87</td>\n",
       "      <td>0.010045</td>\n",
       "    </tr>\n",
       "    <tr>\n",
       "      <th>835</th>\n",
       "      <td>2020-12-01 00:00:00+00:00</td>\n",
       "      <td>19565.47</td>\n",
       "      <td>-0.006621</td>\n",
       "    </tr>\n",
       "  </tbody>\n",
       "</table>\n",
       "<p>720 rows × 3 columns</p>\n",
       "</div>"
      ],
      "text/plain": [
       "            time_period_start  price_close       ret\n",
       "116 2020-11-01 00:00:00+00:00     13725.95 -0.004717\n",
       "117 2020-11-01 01:00:00+00:00     13759.90  0.002473\n",
       "118 2020-11-01 02:00:00+00:00     13715.88 -0.003199\n",
       "119 2020-11-01 03:00:00+00:00     13690.01 -0.001886\n",
       "120 2020-11-01 04:00:00+00:00     13677.25 -0.000932\n",
       "..                        ...          ...       ...\n",
       "831 2020-11-30 20:00:00+00:00     19439.48  0.009320\n",
       "832 2020-11-30 21:00:00+00:00     19381.25 -0.002995\n",
       "833 2020-11-30 22:00:00+00:00     19499.99  0.006127\n",
       "834 2020-11-30 23:00:00+00:00     19695.87  0.010045\n",
       "835 2020-12-01 00:00:00+00:00     19565.47 -0.006621\n",
       "\n",
       "[720 rows x 3 columns]"
      ]
     },
     "execution_count": 57,
     "metadata": {},
     "output_type": "execute_result"
    }
   ],
   "source": [
    "res_btc_usdt = df_select('overall.pkl', 'BINANCE_SPOT_BTC_USDT', '2020-11-01', '2020-12-01')\n",
    "res_btc_usdt"
   ]
  },
  {
   "cell_type": "code",
   "execution_count": 50,
   "metadata": {},
   "outputs": [],
   "source": [
    "# using btc_usdt as an example\n",
    "btc_usdt = df_spot.loc[df_spot['ticker'] == 'BINANCE_SPOT_BTC_USDT']\n",
    "btc_usdt = btc_usdt[['time_period_start', 'price_close', 'ticker']] \n",
    "btc_usdt.reset_index(drop=True, inplace=True)\n",
    "btc_usdt['time_period_start'] = pd.to_datetime(btc_usdt['time_period_start'], utc=True)\n",
    "\n",
    "# calculate returns\n",
    "btc_usdt['ret'] = btc_usdt['price_close'].pct_change() \n",
    "\n",
    "# create an extra df from 1st Nov 2020 to start splitting into 63 dfs\n",
    "res_btc_usdt = btc_usdt[btc_usdt['time_period_start'] >= '2020-11-01']"
   ]
  },
  {
   "cell_type": "markdown",
   "metadata": {},
   "source": [
    "## One month worth of 1hr data"
   ]
  },
  {
   "cell_type": "markdown",
   "metadata": {},
   "source": [
    "#### Split array into multiple ranges to get the mean for each series"
   ]
  },
  {
   "cell_type": "code",
   "execution_count": 4,
   "metadata": {},
   "outputs": [],
   "source": [
    "hurst_one_range = res_btc_usdt.head(672)\n",
    "ranges = {\n",
    "    'one range': hurst_one_range,\n",
    "    'two ranges': np.array_split(hurst_one_range, 2),\n",
    "    'four ranges': np.array_split(hurst_one_range, 4),\n",
    "    'eight range': np.array_split(hurst_one_range, 8),\n",
    "    '16 range': np.array_split(hurst_one_range, 16),\n",
    "    '32 range': np.array_split(hurst_one_range, 32),\n",
    "}"
   ]
  },
  {
   "cell_type": "code",
   "execution_count": 24,
   "metadata": {},
   "outputs": [
    {
     "data": {
      "text/html": [
       "<div>\n",
       "<style scoped>\n",
       "    .dataframe tbody tr th:only-of-type {\n",
       "        vertical-align: middle;\n",
       "    }\n",
       "\n",
       "    .dataframe tbody tr th {\n",
       "        vertical-align: top;\n",
       "    }\n",
       "\n",
       "    .dataframe thead th {\n",
       "        text-align: right;\n",
       "    }\n",
       "</style>\n",
       "<table border=\"1\" class=\"dataframe\">\n",
       "  <thead>\n",
       "    <tr style=\"text-align: right;\">\n",
       "      <th></th>\n",
       "      <th>time_period_start</th>\n",
       "      <th>price_close</th>\n",
       "      <th>ticker</th>\n",
       "      <th>ret</th>\n",
       "    </tr>\n",
       "  </thead>\n",
       "  <tbody>\n",
       "    <tr>\n",
       "      <th>116</th>\n",
       "      <td>2020-11-01 00:00:00+00:00</td>\n",
       "      <td>13725.95</td>\n",
       "      <td>BINANCE_SPOT_BTC_USDT</td>\n",
       "      <td>-0.004717</td>\n",
       "    </tr>\n",
       "    <tr>\n",
       "      <th>117</th>\n",
       "      <td>2020-11-01 01:00:00+00:00</td>\n",
       "      <td>13759.90</td>\n",
       "      <td>BINANCE_SPOT_BTC_USDT</td>\n",
       "      <td>0.002473</td>\n",
       "    </tr>\n",
       "    <tr>\n",
       "      <th>118</th>\n",
       "      <td>2020-11-01 02:00:00+00:00</td>\n",
       "      <td>13715.88</td>\n",
       "      <td>BINANCE_SPOT_BTC_USDT</td>\n",
       "      <td>-0.003199</td>\n",
       "    </tr>\n",
       "    <tr>\n",
       "      <th>119</th>\n",
       "      <td>2020-11-01 03:00:00+00:00</td>\n",
       "      <td>13690.01</td>\n",
       "      <td>BINANCE_SPOT_BTC_USDT</td>\n",
       "      <td>-0.001886</td>\n",
       "    </tr>\n",
       "    <tr>\n",
       "      <th>120</th>\n",
       "      <td>2020-11-01 04:00:00+00:00</td>\n",
       "      <td>13677.25</td>\n",
       "      <td>BINANCE_SPOT_BTC_USDT</td>\n",
       "      <td>-0.000932</td>\n",
       "    </tr>\n",
       "    <tr>\n",
       "      <th>...</th>\n",
       "      <td>...</td>\n",
       "      <td>...</td>\n",
       "      <td>...</td>\n",
       "      <td>...</td>\n",
       "    </tr>\n",
       "    <tr>\n",
       "      <th>783</th>\n",
       "      <td>2020-11-28 19:00:00+00:00</td>\n",
       "      <td>17814.50</td>\n",
       "      <td>BINANCE_SPOT_BTC_USDT</td>\n",
       "      <td>0.004767</td>\n",
       "    </tr>\n",
       "    <tr>\n",
       "      <th>784</th>\n",
       "      <td>2020-11-28 20:00:00+00:00</td>\n",
       "      <td>17673.21</td>\n",
       "      <td>BINANCE_SPOT_BTC_USDT</td>\n",
       "      <td>-0.007931</td>\n",
       "    </tr>\n",
       "    <tr>\n",
       "      <th>785</th>\n",
       "      <td>2020-11-28 21:00:00+00:00</td>\n",
       "      <td>17741.05</td>\n",
       "      <td>BINANCE_SPOT_BTC_USDT</td>\n",
       "      <td>0.003839</td>\n",
       "    </tr>\n",
       "    <tr>\n",
       "      <th>786</th>\n",
       "      <td>2020-11-28 22:00:00+00:00</td>\n",
       "      <td>17760.03</td>\n",
       "      <td>BINANCE_SPOT_BTC_USDT</td>\n",
       "      <td>0.001070</td>\n",
       "    </tr>\n",
       "    <tr>\n",
       "      <th>787</th>\n",
       "      <td>2020-11-28 23:00:00+00:00</td>\n",
       "      <td>17719.85</td>\n",
       "      <td>BINANCE_SPOT_BTC_USDT</td>\n",
       "      <td>-0.002262</td>\n",
       "    </tr>\n",
       "  </tbody>\n",
       "</table>\n",
       "<p>672 rows × 4 columns</p>\n",
       "</div>"
      ],
      "text/plain": [
       "            time_period_start  price_close                 ticker       ret\n",
       "116 2020-11-01 00:00:00+00:00     13725.95  BINANCE_SPOT_BTC_USDT -0.004717\n",
       "117 2020-11-01 01:00:00+00:00     13759.90  BINANCE_SPOT_BTC_USDT  0.002473\n",
       "118 2020-11-01 02:00:00+00:00     13715.88  BINANCE_SPOT_BTC_USDT -0.003199\n",
       "119 2020-11-01 03:00:00+00:00     13690.01  BINANCE_SPOT_BTC_USDT -0.001886\n",
       "120 2020-11-01 04:00:00+00:00     13677.25  BINANCE_SPOT_BTC_USDT -0.000932\n",
       "..                        ...          ...                    ...       ...\n",
       "783 2020-11-28 19:00:00+00:00     17814.50  BINANCE_SPOT_BTC_USDT  0.004767\n",
       "784 2020-11-28 20:00:00+00:00     17673.21  BINANCE_SPOT_BTC_USDT -0.007931\n",
       "785 2020-11-28 21:00:00+00:00     17741.05  BINANCE_SPOT_BTC_USDT  0.003839\n",
       "786 2020-11-28 22:00:00+00:00     17760.03  BINANCE_SPOT_BTC_USDT  0.001070\n",
       "787 2020-11-28 23:00:00+00:00     17719.85  BINANCE_SPOT_BTC_USDT -0.002262\n",
       "\n",
       "[672 rows x 4 columns]"
      ]
     },
     "execution_count": 24,
     "metadata": {},
     "output_type": "execute_result"
    }
   ],
   "source": [
    "hurst_one_range"
   ]
  },
  {
   "cell_type": "code",
   "execution_count": 5,
   "metadata": {},
   "outputs": [
    {
     "data": {
      "text/plain": [
       "0.0004745478555720082"
      ]
     },
     "execution_count": 5,
     "metadata": {},
     "output_type": "execute_result"
    }
   ],
   "source": [
    "# every value in ranges dict from 'two ranges' onwards, we find the mean \n",
    "list(ranges.values())[1][0]['ret'].mean()"
   ]
  },
  {
   "cell_type": "markdown",
   "metadata": {},
   "source": [
    "#### Mean calculation for 63 ranges (on btc_usdt)"
   ]
  },
  {
   "cell_type": "code",
   "execution_count": 9,
   "metadata": {},
   "outputs": [],
   "source": [
    "# start the list with the one_range df\n",
    "list_of_means = [list(ranges.values())[0]['ret'].mean()]\n",
    "start_date = [list(ranges.values())[0].iloc[:, 0:1].values[0][0]]\n",
    "end_date = [list(ranges.values())[0].iloc[:, 0:1].values[-1][0]]\n",
    "\n",
    "# number of dfs from 2-32 ranges\n",
    "range_values = [2, 4, 8, 16, 32]\n",
    "\n",
    "# loop through each df in dict values to calculate its mean \n",
    "for i in range(1, len(ranges)):\n",
    "    \n",
    "    # loop through the range_values for each inner df\n",
    "    for j in range(range_values[i-1]):\n",
    "        inner_df = list(ranges.values())[i][j]\n",
    "        mean_value = inner_df['ret'].mean()\n",
    "        start_dt = inner_df.iloc[:, 0:1].values[0][0]\n",
    "        end_dt = inner_df.iloc[:, 0:1].values[-1][0]\n",
    "        \n",
    "        # store the mean, start_date and end_date\n",
    "        list_of_means.append(mean_value)\n",
    "        start_date.append(start_dt)\n",
    "        end_date.append(end_dt)\n",
    "        \n"
   ]
  },
  {
   "cell_type": "code",
   "execution_count": 11,
   "metadata": {},
   "outputs": [
    {
     "data": {
      "text/plain": [
       "63"
      ]
     },
     "execution_count": 11,
     "metadata": {},
     "output_type": "execute_result"
    }
   ],
   "source": [
    "len(start_date)"
   ]
  },
  {
   "cell_type": "code",
   "execution_count": 45,
   "metadata": {},
   "outputs": [],
   "source": [
    "# create dataframe to store the means, start date and end date range\n",
    "six_three_means = pd.DataFrame(data=list_of_means, columns=['means for 63 series'])\n",
    "six_three_means['start_date'] = start_date\n",
    "six_three_means['end_date'] = end_date"
   ]
  },
  {
   "cell_type": "code",
   "execution_count": 48,
   "metadata": {},
   "outputs": [
    {
     "data": {
      "text/html": [
       "<div>\n",
       "<style scoped>\n",
       "    .dataframe tbody tr th:only-of-type {\n",
       "        vertical-align: middle;\n",
       "    }\n",
       "\n",
       "    .dataframe tbody tr th {\n",
       "        vertical-align: top;\n",
       "    }\n",
       "\n",
       "    .dataframe thead th {\n",
       "        text-align: right;\n",
       "    }\n",
       "</style>\n",
       "<table border=\"1\" class=\"dataframe\">\n",
       "  <thead>\n",
       "    <tr style=\"text-align: right;\">\n",
       "      <th></th>\n",
       "      <th>means for 63 series</th>\n",
       "      <th>start_date</th>\n",
       "      <th>end_date</th>\n",
       "    </tr>\n",
       "  </thead>\n",
       "  <tbody>\n",
       "    <tr>\n",
       "      <th>58</th>\n",
       "      <td>-0.000238</td>\n",
       "      <td>2020-11-24 15:00:00+00:00</td>\n",
       "      <td>2020-11-25 11:00:00+00:00</td>\n",
       "    </tr>\n",
       "    <tr>\n",
       "      <th>59</th>\n",
       "      <td>-0.006248</td>\n",
       "      <td>2020-11-25 12:00:00+00:00</td>\n",
       "      <td>2020-11-26 08:00:00+00:00</td>\n",
       "    </tr>\n",
       "    <tr>\n",
       "      <th>60</th>\n",
       "      <td>0.001148</td>\n",
       "      <td>2020-11-26 09:00:00+00:00</td>\n",
       "      <td>2020-11-27 05:00:00+00:00</td>\n",
       "    </tr>\n",
       "    <tr>\n",
       "      <th>61</th>\n",
       "      <td>-0.000709</td>\n",
       "      <td>2020-11-27 06:00:00+00:00</td>\n",
       "      <td>2020-11-28 02:00:00+00:00</td>\n",
       "    </tr>\n",
       "    <tr>\n",
       "      <th>62</th>\n",
       "      <td>0.002040</td>\n",
       "      <td>2020-11-28 03:00:00+00:00</td>\n",
       "      <td>2020-11-28 23:00:00+00:00</td>\n",
       "    </tr>\n",
       "  </tbody>\n",
       "</table>\n",
       "</div>"
      ],
      "text/plain": [
       "    means for 63 series                start_date                  end_date\n",
       "58            -0.000238 2020-11-24 15:00:00+00:00 2020-11-25 11:00:00+00:00\n",
       "59            -0.006248 2020-11-25 12:00:00+00:00 2020-11-26 08:00:00+00:00\n",
       "60             0.001148 2020-11-26 09:00:00+00:00 2020-11-27 05:00:00+00:00\n",
       "61            -0.000709 2020-11-27 06:00:00+00:00 2020-11-28 02:00:00+00:00\n",
       "62             0.002040 2020-11-28 03:00:00+00:00 2020-11-28 23:00:00+00:00"
      ]
     },
     "execution_count": 48,
     "metadata": {},
     "output_type": "execute_result"
    }
   ],
   "source": [
    "six_three_means.tail()"
   ]
  },
  {
   "cell_type": "markdown",
   "metadata": {},
   "source": [
    "#### For these 63 dataframes find the deviation from its mean"
   ]
  },
  {
   "cell_type": "code",
   "execution_count": 51,
   "metadata": {},
   "outputs": [],
   "source": [
    "# pull all dfs into 1 list\n",
    "list_of_dfs = [hurst_one_range]\n",
    "ranges = [2,4,8,16,32]\n",
    "\n",
    "# loop through each range and split accordingly\n",
    "for r in ranges:\n",
    "    range_dfs = np.array_split(hurst_one_range, r)\n",
    "    for df in range_dfs:\n",
    "        list_of_dfs.append(df)"
   ]
  },
  {
   "cell_type": "code",
   "execution_count": null,
   "metadata": {},
   "outputs": [],
   "source": [
    "# df -> dataframe with returns\n",
    "# len_of_df -> 1,2,6,12 months\n",
    "# ranges -> [1,2,4,8,16,32]\n",
    "\n",
    "def rescaled_range(df, len_of_df, ranges):\n",
    "    # create list of dfs\n",
    "    # pull all dfs into 1 list\n",
    "    list_of_dfs = [df]\n",
    "\n",
    "    # loop through each range and split accordingly\n",
    "    for r in ranges:\n",
    "        range_dfs = np.array_split(df, r)\n",
    "        for dataframe in range_dfs:\n",
    "            list_of_dfs.append(dataframe)\n",
    "    \n",
    "    # get the mean deviation (Xi - m) \n",
    "    for df in list_of_dfs:\n",
    "        df['mean_deviation'] = df['ret'] - df['ret'].mean()\n",
    "        \n",
    "    # populate another dataframe with its values\n",
    "    hurst_attributes = pd.DataFrame()\n",
    "    # find the mean\n",
    "    hurst_attributes['mean'] = [df['ret'].mean() for df in list_of_dfs]\n",
    "    hurst_attributes['sum_mean_deviation'] = [sum(df['mean_deviation']) for df in list_of_dfs]\n",
    "    hurst_attributes['max_difference']  = [df['mean_deviation'].max() - df['mean_deviation'].min() for df in list_of_dfs]\n",
    "    hurst_attributes['stdev']  = [df['ret'].std() for df in list_of_dfs]\n",
    "    hurst_attributes['rescaled_range'] = hurst_attributes['max_difference']/six_three_means['stdev']\n",
    "    \n",
    "    # set the ranges\n",
    "    hurst_attributes['range'] = np.nan\n",
    "    hurst_attributes.iloc[31:, -1:] = int(32)\n",
    "    hurst_attributes.iloc[15:31, -1:] = int(16)\n",
    "    hurst_attributes.iloc[7:15, -1:] = int(8)\n",
    "    hurst_attributes.iloc[3:7, -1:] = int(4)\n",
    "    hurst_attributes.iloc[1:3, -1:] = int(2)\n",
    "    hurst_attributes.iloc[0:1, -1:] = int(1)\n",
    "    \n",
    "    # another new dataframe with the average rescaled range for list of rance\n",
    "    avg_rescaled_range = [hurst_attributes.loc[hurst_attributes['range'] == range_value, 'rescaled_range'].mean() for range_value in hurst_attributes.range.unique()]\n",
    "    range_size = list(dict.fromkeys([len(df) for df in list_of_dfs]))\n",
    "    hurst_plot_df = pd.DataFrame(zip(avg_rescaled_range, range_size), columns=['rescaled_range_mean', 'size']).apply(np.log)\n",
    "    \n",
    "    return hurst_attributes, hurst_plot_df"
   ]
  },
  {
   "cell_type": "code",
   "execution_count": 55,
   "metadata": {},
   "outputs": [
    {
     "name": "stderr",
     "output_type": "stream",
     "text": [
      "d:\\Miniconda3\\lib\\site-packages\\ipykernel_launcher.py:5: SettingWithCopyWarning: \n",
      "A value is trying to be set on a copy of a slice from a DataFrame.\n",
      "Try using .loc[row_indexer,col_indexer] = value instead\n",
      "\n",
      "See the caveats in the documentation: https://pandas.pydata.org/pandas-docs/stable/user_guide/indexing.html#returning-a-view-versus-a-copy\n",
      "  \"\"\"\n"
     ]
    }
   ],
   "source": [
    "# find the mean deviations\n",
    "means = six_three_means['means for 63 series'].tolist()\n",
    "\n",
    "for df, mean in zip(list_of_dfs, means):\n",
    "    df['mean_deviation'] = df['ret'] - mean"
   ]
  },
  {
   "cell_type": "code",
   "execution_count": 58,
   "metadata": {},
   "outputs": [
    {
     "data": {
      "text/html": [
       "<div>\n",
       "<style scoped>\n",
       "    .dataframe tbody tr th:only-of-type {\n",
       "        vertical-align: middle;\n",
       "    }\n",
       "\n",
       "    .dataframe tbody tr th {\n",
       "        vertical-align: top;\n",
       "    }\n",
       "\n",
       "    .dataframe thead th {\n",
       "        text-align: right;\n",
       "    }\n",
       "</style>\n",
       "<table border=\"1\" class=\"dataframe\">\n",
       "  <thead>\n",
       "    <tr style=\"text-align: right;\">\n",
       "      <th></th>\n",
       "      <th>time_period_start</th>\n",
       "      <th>price_close</th>\n",
       "      <th>ticker</th>\n",
       "      <th>ret</th>\n",
       "      <th>mean_deviation</th>\n",
       "    </tr>\n",
       "  </thead>\n",
       "  <tbody>\n",
       "    <tr>\n",
       "      <th>116</th>\n",
       "      <td>2020-11-01 00:00:00+00:00</td>\n",
       "      <td>13725.95</td>\n",
       "      <td>BINANCE_SPOT_BTC_USDT</td>\n",
       "      <td>-0.004717</td>\n",
       "      <td>-0.005116</td>\n",
       "    </tr>\n",
       "    <tr>\n",
       "      <th>117</th>\n",
       "      <td>2020-11-01 01:00:00+00:00</td>\n",
       "      <td>13759.90</td>\n",
       "      <td>BINANCE_SPOT_BTC_USDT</td>\n",
       "      <td>0.002473</td>\n",
       "      <td>0.002074</td>\n",
       "    </tr>\n",
       "    <tr>\n",
       "      <th>118</th>\n",
       "      <td>2020-11-01 02:00:00+00:00</td>\n",
       "      <td>13715.88</td>\n",
       "      <td>BINANCE_SPOT_BTC_USDT</td>\n",
       "      <td>-0.003199</td>\n",
       "      <td>-0.003599</td>\n",
       "    </tr>\n",
       "    <tr>\n",
       "      <th>119</th>\n",
       "      <td>2020-11-01 03:00:00+00:00</td>\n",
       "      <td>13690.01</td>\n",
       "      <td>BINANCE_SPOT_BTC_USDT</td>\n",
       "      <td>-0.001886</td>\n",
       "      <td>-0.002286</td>\n",
       "    </tr>\n",
       "    <tr>\n",
       "      <th>120</th>\n",
       "      <td>2020-11-01 04:00:00+00:00</td>\n",
       "      <td>13677.25</td>\n",
       "      <td>BINANCE_SPOT_BTC_USDT</td>\n",
       "      <td>-0.000932</td>\n",
       "      <td>-0.001332</td>\n",
       "    </tr>\n",
       "    <tr>\n",
       "      <th>...</th>\n",
       "      <td>...</td>\n",
       "      <td>...</td>\n",
       "      <td>...</td>\n",
       "      <td>...</td>\n",
       "      <td>...</td>\n",
       "    </tr>\n",
       "    <tr>\n",
       "      <th>783</th>\n",
       "      <td>2020-11-28 19:00:00+00:00</td>\n",
       "      <td>17814.50</td>\n",
       "      <td>BINANCE_SPOT_BTC_USDT</td>\n",
       "      <td>0.004767</td>\n",
       "      <td>0.004367</td>\n",
       "    </tr>\n",
       "    <tr>\n",
       "      <th>784</th>\n",
       "      <td>2020-11-28 20:00:00+00:00</td>\n",
       "      <td>17673.21</td>\n",
       "      <td>BINANCE_SPOT_BTC_USDT</td>\n",
       "      <td>-0.007931</td>\n",
       "      <td>-0.008331</td>\n",
       "    </tr>\n",
       "    <tr>\n",
       "      <th>785</th>\n",
       "      <td>2020-11-28 21:00:00+00:00</td>\n",
       "      <td>17741.05</td>\n",
       "      <td>BINANCE_SPOT_BTC_USDT</td>\n",
       "      <td>0.003839</td>\n",
       "      <td>0.003439</td>\n",
       "    </tr>\n",
       "    <tr>\n",
       "      <th>786</th>\n",
       "      <td>2020-11-28 22:00:00+00:00</td>\n",
       "      <td>17760.03</td>\n",
       "      <td>BINANCE_SPOT_BTC_USDT</td>\n",
       "      <td>0.001070</td>\n",
       "      <td>0.000670</td>\n",
       "    </tr>\n",
       "    <tr>\n",
       "      <th>787</th>\n",
       "      <td>2020-11-28 23:00:00+00:00</td>\n",
       "      <td>17719.85</td>\n",
       "      <td>BINANCE_SPOT_BTC_USDT</td>\n",
       "      <td>-0.002262</td>\n",
       "      <td>-0.002662</td>\n",
       "    </tr>\n",
       "  </tbody>\n",
       "</table>\n",
       "<p>672 rows × 5 columns</p>\n",
       "</div>"
      ],
      "text/plain": [
       "            time_period_start  price_close                 ticker       ret  \\\n",
       "116 2020-11-01 00:00:00+00:00     13725.95  BINANCE_SPOT_BTC_USDT -0.004717   \n",
       "117 2020-11-01 01:00:00+00:00     13759.90  BINANCE_SPOT_BTC_USDT  0.002473   \n",
       "118 2020-11-01 02:00:00+00:00     13715.88  BINANCE_SPOT_BTC_USDT -0.003199   \n",
       "119 2020-11-01 03:00:00+00:00     13690.01  BINANCE_SPOT_BTC_USDT -0.001886   \n",
       "120 2020-11-01 04:00:00+00:00     13677.25  BINANCE_SPOT_BTC_USDT -0.000932   \n",
       "..                        ...          ...                    ...       ...   \n",
       "783 2020-11-28 19:00:00+00:00     17814.50  BINANCE_SPOT_BTC_USDT  0.004767   \n",
       "784 2020-11-28 20:00:00+00:00     17673.21  BINANCE_SPOT_BTC_USDT -0.007931   \n",
       "785 2020-11-28 21:00:00+00:00     17741.05  BINANCE_SPOT_BTC_USDT  0.003839   \n",
       "786 2020-11-28 22:00:00+00:00     17760.03  BINANCE_SPOT_BTC_USDT  0.001070   \n",
       "787 2020-11-28 23:00:00+00:00     17719.85  BINANCE_SPOT_BTC_USDT -0.002262   \n",
       "\n",
       "     mean_deviation  \n",
       "116       -0.005116  \n",
       "117        0.002074  \n",
       "118       -0.003599  \n",
       "119       -0.002286  \n",
       "120       -0.001332  \n",
       "..              ...  \n",
       "783        0.004367  \n",
       "784       -0.008331  \n",
       "785        0.003439  \n",
       "786        0.000670  \n",
       "787       -0.002662  \n",
       "\n",
       "[672 rows x 5 columns]"
      ]
     },
     "execution_count": 58,
     "metadata": {},
     "output_type": "execute_result"
    }
   ],
   "source": [
    "# show the mean_deviation for one_range_hurst\n",
    "list_of_dfs[0]"
   ]
  },
  {
   "cell_type": "markdown",
   "metadata": {},
   "source": [
    "#### Sum of mean deviations for each dataframe"
   ]
  },
  {
   "cell_type": "code",
   "execution_count": 112,
   "metadata": {},
   "outputs": [],
   "source": [
    "# create the running total of mean_deviation in each df (63)\n",
    "mean_deviation_sums = [sum(df['mean_deviation']) for df in list_of_dfs]\n",
    "max_difference_each_range = [df['mean_deviation'].max() - df['mean_deviation'].min() for df in list_of_dfs]\n",
    "stdev = [df['ret'].std() for df in list_of_dfs]\n",
    "\n",
    "# set new df columns\n",
    "six_three_means['mean_deviation_sums'] = mean_deviation_sums\n",
    "six_three_means['max_difference'] = max_difference_each_range\n",
    "six_three_means['stdev'] = stdev\n",
    "six_three_means['rescaled_range'] = six_three_means['max_difference']/six_three_means['stdev']\n"
   ]
  },
  {
   "cell_type": "code",
   "execution_count": 113,
   "metadata": {},
   "outputs": [
    {
     "data": {
      "text/html": [
       "<div>\n",
       "<style scoped>\n",
       "    .dataframe tbody tr th:only-of-type {\n",
       "        vertical-align: middle;\n",
       "    }\n",
       "\n",
       "    .dataframe tbody tr th {\n",
       "        vertical-align: top;\n",
       "    }\n",
       "\n",
       "    .dataframe thead th {\n",
       "        text-align: right;\n",
       "    }\n",
       "</style>\n",
       "<table border=\"1\" class=\"dataframe\">\n",
       "  <thead>\n",
       "    <tr style=\"text-align: right;\">\n",
       "      <th></th>\n",
       "      <th>means for 63 series</th>\n",
       "      <th>start_date</th>\n",
       "      <th>end_date</th>\n",
       "      <th>mean_deviation_sums</th>\n",
       "      <th>max_difference</th>\n",
       "      <th>stdev</th>\n",
       "      <th>rescaled_range</th>\n",
       "      <th>range</th>\n",
       "    </tr>\n",
       "  </thead>\n",
       "  <tbody>\n",
       "    <tr>\n",
       "      <th>0</th>\n",
       "      <td>0.000399</td>\n",
       "      <td>2020-11-01 00:00:00+00:00</td>\n",
       "      <td>2020-11-28 23:00:00+00:00</td>\n",
       "      <td>7.164408e-16</td>\n",
       "      <td>0.079565</td>\n",
       "      <td>0.007264</td>\n",
       "      <td>10.954078</td>\n",
       "      <td>1.0</td>\n",
       "    </tr>\n",
       "    <tr>\n",
       "      <th>1</th>\n",
       "      <td>0.000475</td>\n",
       "      <td>2020-11-01 00:00:00+00:00</td>\n",
       "      <td>2020-11-14 23:00:00+00:00</td>\n",
       "      <td>1.032160e-16</td>\n",
       "      <td>0.043182</td>\n",
       "      <td>0.006202</td>\n",
       "      <td>6.962325</td>\n",
       "      <td>2.0</td>\n",
       "    </tr>\n",
       "    <tr>\n",
       "      <th>2</th>\n",
       "      <td>0.000324</td>\n",
       "      <td>2020-11-15 00:00:00+00:00</td>\n",
       "      <td>2020-11-28 23:00:00+00:00</td>\n",
       "      <td>-7.424616e-16</td>\n",
       "      <td>0.079565</td>\n",
       "      <td>0.008197</td>\n",
       "      <td>9.706274</td>\n",
       "      <td>2.0</td>\n",
       "    </tr>\n",
       "    <tr>\n",
       "      <th>3</th>\n",
       "      <td>0.000450</td>\n",
       "      <td>2020-11-01 00:00:00+00:00</td>\n",
       "      <td>2020-11-07 23:00:00+00:00</td>\n",
       "      <td>-2.673643e-16</td>\n",
       "      <td>0.041628</td>\n",
       "      <td>0.006718</td>\n",
       "      <td>6.196716</td>\n",
       "      <td>4.0</td>\n",
       "    </tr>\n",
       "    <tr>\n",
       "      <th>4</th>\n",
       "      <td>0.000499</td>\n",
       "      <td>2020-11-08 00:00:00+00:00</td>\n",
       "      <td>2020-11-14 23:00:00+00:00</td>\n",
       "      <td>-8.673617e-19</td>\n",
       "      <td>0.040180</td>\n",
       "      <td>0.005660</td>\n",
       "      <td>7.098915</td>\n",
       "      <td>4.0</td>\n",
       "    </tr>\n",
       "    <tr>\n",
       "      <th>...</th>\n",
       "      <td>...</td>\n",
       "      <td>...</td>\n",
       "      <td>...</td>\n",
       "      <td>...</td>\n",
       "      <td>...</td>\n",
       "      <td>...</td>\n",
       "      <td>...</td>\n",
       "      <td>...</td>\n",
       "    </tr>\n",
       "    <tr>\n",
       "      <th>58</th>\n",
       "      <td>-0.000238</td>\n",
       "      <td>2020-11-24 15:00:00+00:00</td>\n",
       "      <td>2020-11-25 11:00:00+00:00</td>\n",
       "      <td>3.767603e-18</td>\n",
       "      <td>0.019206</td>\n",
       "      <td>0.005608</td>\n",
       "      <td>3.424602</td>\n",
       "      <td>32.0</td>\n",
       "    </tr>\n",
       "    <tr>\n",
       "      <th>59</th>\n",
       "      <td>-0.006248</td>\n",
       "      <td>2020-11-25 12:00:00+00:00</td>\n",
       "      <td>2020-11-26 08:00:00+00:00</td>\n",
       "      <td>-2.081668e-17</td>\n",
       "      <td>0.050998</td>\n",
       "      <td>0.012020</td>\n",
       "      <td>4.242866</td>\n",
       "      <td>32.0</td>\n",
       "    </tr>\n",
       "    <tr>\n",
       "      <th>60</th>\n",
       "      <td>0.001148</td>\n",
       "      <td>2020-11-26 09:00:00+00:00</td>\n",
       "      <td>2020-11-27 05:00:00+00:00</td>\n",
       "      <td>-1.734723e-18</td>\n",
       "      <td>0.056399</td>\n",
       "      <td>0.013615</td>\n",
       "      <td>4.142577</td>\n",
       "      <td>32.0</td>\n",
       "    </tr>\n",
       "    <tr>\n",
       "      <th>61</th>\n",
       "      <td>-0.000709</td>\n",
       "      <td>2020-11-27 06:00:00+00:00</td>\n",
       "      <td>2020-11-28 02:00:00+00:00</td>\n",
       "      <td>0.000000e+00</td>\n",
       "      <td>0.034939</td>\n",
       "      <td>0.010740</td>\n",
       "      <td>3.253154</td>\n",
       "      <td>32.0</td>\n",
       "    </tr>\n",
       "    <tr>\n",
       "      <th>62</th>\n",
       "      <td>0.002040</td>\n",
       "      <td>2020-11-28 03:00:00+00:00</td>\n",
       "      <td>2020-11-28 23:00:00+00:00</td>\n",
       "      <td>6.938894e-18</td>\n",
       "      <td>0.024722</td>\n",
       "      <td>0.006256</td>\n",
       "      <td>3.951786</td>\n",
       "      <td>32.0</td>\n",
       "    </tr>\n",
       "  </tbody>\n",
       "</table>\n",
       "<p>63 rows × 8 columns</p>\n",
       "</div>"
      ],
      "text/plain": [
       "    means for 63 series                start_date                  end_date  \\\n",
       "0              0.000399 2020-11-01 00:00:00+00:00 2020-11-28 23:00:00+00:00   \n",
       "1              0.000475 2020-11-01 00:00:00+00:00 2020-11-14 23:00:00+00:00   \n",
       "2              0.000324 2020-11-15 00:00:00+00:00 2020-11-28 23:00:00+00:00   \n",
       "3              0.000450 2020-11-01 00:00:00+00:00 2020-11-07 23:00:00+00:00   \n",
       "4              0.000499 2020-11-08 00:00:00+00:00 2020-11-14 23:00:00+00:00   \n",
       "..                  ...                       ...                       ...   \n",
       "58            -0.000238 2020-11-24 15:00:00+00:00 2020-11-25 11:00:00+00:00   \n",
       "59            -0.006248 2020-11-25 12:00:00+00:00 2020-11-26 08:00:00+00:00   \n",
       "60             0.001148 2020-11-26 09:00:00+00:00 2020-11-27 05:00:00+00:00   \n",
       "61            -0.000709 2020-11-27 06:00:00+00:00 2020-11-28 02:00:00+00:00   \n",
       "62             0.002040 2020-11-28 03:00:00+00:00 2020-11-28 23:00:00+00:00   \n",
       "\n",
       "    mean_deviation_sums  max_difference     stdev  rescaled_range  range  \n",
       "0          7.164408e-16        0.079565  0.007264       10.954078    1.0  \n",
       "1          1.032160e-16        0.043182  0.006202        6.962325    2.0  \n",
       "2         -7.424616e-16        0.079565  0.008197        9.706274    2.0  \n",
       "3         -2.673643e-16        0.041628  0.006718        6.196716    4.0  \n",
       "4         -8.673617e-19        0.040180  0.005660        7.098915    4.0  \n",
       "..                  ...             ...       ...             ...    ...  \n",
       "58         3.767603e-18        0.019206  0.005608        3.424602   32.0  \n",
       "59        -2.081668e-17        0.050998  0.012020        4.242866   32.0  \n",
       "60        -1.734723e-18        0.056399  0.013615        4.142577   32.0  \n",
       "61         0.000000e+00        0.034939  0.010740        3.253154   32.0  \n",
       "62         6.938894e-18        0.024722  0.006256        3.951786   32.0  \n",
       "\n",
       "[63 rows x 8 columns]"
      ]
     },
     "execution_count": 113,
     "metadata": {},
     "output_type": "execute_result"
    }
   ],
   "source": [
    "six_three_means"
   ]
  },
  {
   "cell_type": "code",
   "execution_count": 79,
   "metadata": {},
   "outputs": [],
   "source": [
    "# creating rows to indicate which range\n",
    "six_three_means['range'] = np.nan\n",
    "six_three_means.iloc[31:, -1:] = int(32)\n",
    "six_three_means.iloc[15:31, -1:] = int(16)\n",
    "six_three_means.iloc[7:15, -1:] = int(8)\n",
    "six_three_means.iloc[3:7, -1:] = int(4)\n",
    "six_three_means.iloc[1:3, -1:] = int(2)\n",
    "six_three_means.iloc[0:1, -1:] = int(1)"
   ]
  },
  {
   "cell_type": "code",
   "execution_count": 114,
   "metadata": {},
   "outputs": [],
   "source": [
    "# average rescaled range for each means\n",
    "avg_rescaled_range = [six_three_means.loc[six_three_means['range'] == range_value, 'rescaled_range'].mean() for range_value in six_three_means.range.unique()]\n",
    "df_length = list(dict.fromkeys([len(df) for df in list_of_dfs]))\n",
    "hurst_df = pd.DataFrame(zip(avg_rescaled_range, df_length), columns=['rescaled_range_mean', 'size'])"
   ]
  },
  {
   "cell_type": "code",
   "execution_count": 116,
   "metadata": {},
   "outputs": [],
   "source": [
    "# log the values\n",
    "hurst_df = hurst_df.apply(np.log) "
   ]
  },
  {
   "cell_type": "code",
   "execution_count": 117,
   "metadata": {},
   "outputs": [
    {
     "data": {
      "text/html": [
       "<div>\n",
       "<style scoped>\n",
       "    .dataframe tbody tr th:only-of-type {\n",
       "        vertical-align: middle;\n",
       "    }\n",
       "\n",
       "    .dataframe tbody tr th {\n",
       "        vertical-align: top;\n",
       "    }\n",
       "\n",
       "    .dataframe thead th {\n",
       "        text-align: right;\n",
       "    }\n",
       "</style>\n",
       "<table border=\"1\" class=\"dataframe\">\n",
       "  <thead>\n",
       "    <tr style=\"text-align: right;\">\n",
       "      <th></th>\n",
       "      <th>rescaled_range_mean</th>\n",
       "      <th>size</th>\n",
       "    </tr>\n",
       "  </thead>\n",
       "  <tbody>\n",
       "    <tr>\n",
       "      <th>0</th>\n",
       "      <td>2.393712</td>\n",
       "      <td>6.510258</td>\n",
       "    </tr>\n",
       "    <tr>\n",
       "      <th>1</th>\n",
       "      <td>2.120380</td>\n",
       "      <td>5.817111</td>\n",
       "    </tr>\n",
       "    <tr>\n",
       "      <th>2</th>\n",
       "      <td>2.043123</td>\n",
       "      <td>5.123964</td>\n",
       "    </tr>\n",
       "    <tr>\n",
       "      <th>3</th>\n",
       "      <td>1.836456</td>\n",
       "      <td>4.430817</td>\n",
       "    </tr>\n",
       "    <tr>\n",
       "      <th>4</th>\n",
       "      <td>1.598866</td>\n",
       "      <td>3.737670</td>\n",
       "    </tr>\n",
       "    <tr>\n",
       "      <th>5</th>\n",
       "      <td>1.371393</td>\n",
       "      <td>3.044522</td>\n",
       "    </tr>\n",
       "  </tbody>\n",
       "</table>\n",
       "</div>"
      ],
      "text/plain": [
       "   rescaled_range_mean      size\n",
       "0             2.393712  6.510258\n",
       "1             2.120380  5.817111\n",
       "2             2.043123  5.123964\n",
       "3             1.836456  4.430817\n",
       "4             1.598866  3.737670\n",
       "5             1.371393  3.044522"
      ]
     },
     "execution_count": 117,
     "metadata": {},
     "output_type": "execute_result"
    }
   ],
   "source": [
    "hurst_df"
   ]
  },
  {
   "cell_type": "markdown",
   "metadata": {},
   "source": [
    "#### Visualising hurst plot"
   ]
  },
  {
   "cell_type": "code",
   "execution_count": 134,
   "metadata": {},
   "outputs": [],
   "source": [
    "import matplotlib.pyplot as plt\n",
    "import seaborn as sns\n",
    "from scipy import stats\n",
    "sns.set_theme()"
   ]
  },
  {
   "cell_type": "code",
   "execution_count": 135,
   "metadata": {},
   "outputs": [
    {
     "data": {
      "image/png": "[encoded data removed]",
      "text/plain": [
       "<Figure size 432x288 with 1 Axes>"
      ]
     },
     "metadata": {},
     "output_type": "display_data"
    }
   ],
   "source": [
    "# get coeffs of linear fit\n",
    "slope, intercept, r_value, p_value, std_err = stats.linregress(hurst_df['size'],hurst_df['rescaled_range_mean'])\n",
    "\n",
    "# use line_kws to set line label for legend\n",
    "ax = sns.regplot(x=\"size\", y=\"rescaled_range_mean\", data=hurst_df, color='b', \n",
    " line_kws={'label':\"y={0:.1f}x+{1:.1f}\".format(slope,intercept)})\n",
    "\n",
    "# plot legend\n",
    "ax.legend()\n",
    "\n",
    "plt.show()"
   ]
  },
  {
   "cell_type": "markdown",
   "metadata": {},
   "source": [
    "Hurst exponent = 0.3 for the Nov-2020 for btc_usdt\n",
    "- likely to reverse trend over time?"
   ]
  },
  {
   "cell_type": "code",
   "execution_count": null,
   "metadata": {},
   "outputs": [],
   "source": []
  }
 ],
 "metadata": {
  "kernelspec": {
   "display_name": "Python 3.9.13 ('capstone')",
   "language": "python",
   "name": "python3"
  },
  "language_info": {
   "codemirror_mode": {
    "name": "ipython",
    "version": 3
   },
   "file_extension": ".py",
   "mimetype": "text/x-python",
   "name": "python",
   "nbconvert_exporter": "python",
   "pygments_lexer": "ipython3",
   "version": "3.9.13"
  },
  "orig_nbformat": 4,
  "vscode": {
   "interpreter": {
    "hash": "c6eeee3fb1ee1c51a2640dfd4c2e6495a94534ab9d8be61bb424f0696b65265a"
   }
  }
 },
 "nbformat": 4,
 "nbformat_minor": 2
}
