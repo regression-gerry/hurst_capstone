{
 "cells": [
  {
   "cell_type": "markdown",
   "metadata": {
    "pycharm": {
     "name": "#%% md\n"
    }
   },
   "source": [
    "## CoinAPI test"
   ]
  },
  {
   "cell_type": "code",
   "execution_count": 1,
   "metadata": {
    "pycharm": {
     "name": "#%%\n"
    }
   },
   "outputs": [],
   "source": [
    "# libraries\n",
    "import requests\n",
    "import pandas as pd\n",
    "import numpy as np"
   ]
  },
  {
   "cell_type": "markdown",
   "metadata": {
    "pycharm": {
     "name": "#%% md\n"
    }
   },
   "source": [
    "### Wrangle coin attributes"
   ]
  },
  {
   "cell_type": "code",
   "execution_count": 2,
   "metadata": {
    "pycharm": {
     "name": "#%%\n"
    }
   },
   "outputs": [
    {
     "name": "stderr",
     "output_type": "stream",
     "text": [
      "c:\\Users\\seowjiajun\\anaconda3\\lib\\site-packages\\IPython\\core\\interactiveshell.py:3444: DtypeWarning: Columns (6,9,10,11,12,18,21,22,23,24,26,27,28,29,30,31,32,40,41,42) have mixed types.Specify dtype option on import or set low_memory=False.\n",
      "  exec(code_obj, self.user_global_ns, self.user_ns)\n"
     ]
    }
   ],
   "source": [
    "symbols = pd.read_csv('coin data.csv')"
   ]
  },
  {
   "cell_type": "code",
   "execution_count": 4,
   "metadata": {
    "pycharm": {
     "name": "#%%\n"
    }
   },
   "outputs": [],
   "source": [
    "coins = [\n",
    "    'BTC', 'ETH', 'BNB', 'ADA', 'XRP',\n",
    "    'SOL', 'DOGE', 'MATIC', 'UNI', 'AVAX'\n",
    "]\n",
    "\n",
    "quote_currency = 'USDT'"
   ]
  },
  {
   "cell_type": "code",
   "execution_count": 5,
   "metadata": {
    "pycharm": {
     "name": "#%%\n"
    }
   },
   "outputs": [],
   "source": [
    "binance_df = symbols[symbols['exchange_id'].str.contains(\"BINANCE\")]\n",
    "binance_df_spot = binance_df[binance_df['symbol_type'].isin(['SPOT'])]\n",
    "binance_perp_df = binance_df[binance_df['symbol_type'].isin(['PERPETUAL'])]\n",
    "binance_df_spot = binance_df_spot[['symbol_id', 'exchange_id', 'symbol_type', 'asset_id_base',\n",
    "       'asset_id_quote', 'data_start', 'data_trade_start']]\n",
    "binance_perp_df = binance_perp_df[['symbol_id', 'exchange_id', 'symbol_type', 'asset_id_base',\n",
    "       'asset_id_quote', 'data_start', 'data_trade_start']]"
   ]
  },
  {
   "cell_type": "code",
   "execution_count": 6,
   "metadata": {
    "pycharm": {
     "name": "#%%\n"
    }
   },
   "outputs": [],
   "source": [
    "b_usd_filtered_spot = binance_df_spot[binance_df_spot['asset_id_base'].isin(coins) & binance_df_spot['asset_id_quote'].isin([quote_currency])]\n",
    "b_usd_filtered_perp = binance_perp_df[binance_perp_df['asset_id_base'].isin(coins) & binance_perp_df['asset_id_quote'].isin([quote_currency])]"
   ]
  },
  {
   "cell_type": "code",
   "execution_count": 7,
   "metadata": {
    "pycharm": {
     "name": "#%%\n"
    }
   },
   "outputs": [
    {
     "name": "stderr",
     "output_type": "stream",
     "text": [
      "c:\\Users\\seowjiajun\\anaconda3\\lib\\site-packages\\pandas\\util\\_decorators.py:311: SettingWithCopyWarning: \n",
      "A value is trying to be set on a copy of a slice from a DataFrame\n",
      "\n",
      "See the caveats in the documentation: https://pandas.pydata.org/pandas-docs/stable/user_guide/indexing.html#returning-a-view-versus-a-copy\n",
      "  return func(*args, **kwargs)\n"
     ]
    }
   ],
   "source": [
    "b_usd_filtered_spot.sort_values(by='asset_id_base', inplace=True)\n",
    "b_usd_filtered_perp.sort_values(by='asset_id_base', inplace=True)"
   ]
  },
  {
   "cell_type": "code",
   "execution_count": 8,
   "metadata": {
    "pycharm": {
     "name": "#%%\n"
    }
   },
   "outputs": [],
   "source": [
    "spot_list = b_usd_filtered_spot[b_usd_filtered_spot['exchange_id'].isin(['BINANCE'])].sort_values(by='data_start')\n",
    "spot_lst = spot_list['symbol_id'].to_list()"
   ]
  },
  {
   "cell_type": "code",
   "execution_count": 9,
   "metadata": {
    "pycharm": {
     "name": "#%%\n"
    }
   },
   "outputs": [
    {
     "data": {
      "text/html": [
       "<div>\n",
       "<style scoped>\n",
       "    .dataframe tbody tr th:only-of-type {\n",
       "        vertical-align: middle;\n",
       "    }\n",
       "\n",
       "    .dataframe tbody tr th {\n",
       "        vertical-align: top;\n",
       "    }\n",
       "\n",
       "    .dataframe thead th {\n",
       "        text-align: right;\n",
       "    }\n",
       "</style>\n",
       "<table border=\"1\" class=\"dataframe\">\n",
       "  <thead>\n",
       "    <tr style=\"text-align: right;\">\n",
       "      <th></th>\n",
       "      <th>symbol_id</th>\n",
       "      <th>exchange_id</th>\n",
       "      <th>symbol_type</th>\n",
       "      <th>asset_id_base</th>\n",
       "      <th>asset_id_quote</th>\n",
       "      <th>data_start</th>\n",
       "      <th>data_trade_start</th>\n",
       "    </tr>\n",
       "  </thead>\n",
       "  <tbody>\n",
       "    <tr>\n",
       "      <th>1786</th>\n",
       "      <td>BINANCE_SPOT_BTC_USDT</td>\n",
       "      <td>BINANCE</td>\n",
       "      <td>SPOT</td>\n",
       "      <td>BTC</td>\n",
       "      <td>USDT</td>\n",
       "      <td>2017-08-17</td>\n",
       "      <td>2017-08-17T04:00:28.3220000Z</td>\n",
       "    </tr>\n",
       "    <tr>\n",
       "      <th>1787</th>\n",
       "      <td>BINANCE_SPOT_ETH_USDT</td>\n",
       "      <td>BINANCE</td>\n",
       "      <td>SPOT</td>\n",
       "      <td>ETH</td>\n",
       "      <td>USDT</td>\n",
       "      <td>2017-08-17</td>\n",
       "      <td>2017-08-17T04:00:29.8840000Z</td>\n",
       "    </tr>\n",
       "    <tr>\n",
       "      <th>6876</th>\n",
       "      <td>BINANCE_SPOT_BNB_USDT</td>\n",
       "      <td>BINANCE</td>\n",
       "      <td>SPOT</td>\n",
       "      <td>BNB</td>\n",
       "      <td>USDT</td>\n",
       "      <td>2017-11-06</td>\n",
       "      <td>2017-11-06T03:54:23.5900000Z</td>\n",
       "    </tr>\n",
       "    <tr>\n",
       "      <th>9198</th>\n",
       "      <td>BINANCE_SPOT_ADA_USDT</td>\n",
       "      <td>BINANCE</td>\n",
       "      <td>SPOT</td>\n",
       "      <td>ADA</td>\n",
       "      <td>USDT</td>\n",
       "      <td>2018-04-17</td>\n",
       "      <td>2018-04-17T04:02:33.1680000Z</td>\n",
       "    </tr>\n",
       "    <tr>\n",
       "      <th>9423</th>\n",
       "      <td>BINANCE_SPOT_XRP_USDT</td>\n",
       "      <td>BINANCE</td>\n",
       "      <td>SPOT</td>\n",
       "      <td>XRP</td>\n",
       "      <td>USDT</td>\n",
       "      <td>2018-05-04</td>\n",
       "      <td>2018-05-04T08:11:31.4180000Z</td>\n",
       "    </tr>\n",
       "    <tr>\n",
       "      <th>14239</th>\n",
       "      <td>BINANCE_SPOT_MATIC_USDT</td>\n",
       "      <td>BINANCE</td>\n",
       "      <td>SPOT</td>\n",
       "      <td>MATIC</td>\n",
       "      <td>USDT</td>\n",
       "      <td>2019-04-25</td>\n",
       "      <td>2019-04-26T15:00:00.1490000Z</td>\n",
       "    </tr>\n",
       "    <tr>\n",
       "      <th>15702</th>\n",
       "      <td>BINANCE_SPOT_DOGE_USDT</td>\n",
       "      <td>BINANCE</td>\n",
       "      <td>SPOT</td>\n",
       "      <td>DOGE</td>\n",
       "      <td>USDT</td>\n",
       "      <td>2019-07-05</td>\n",
       "      <td>2019-07-05T12:00:01.9570000Z</td>\n",
       "    </tr>\n",
       "    <tr>\n",
       "      <th>28744</th>\n",
       "      <td>BINANCE_SPOT_SOL_USDT</td>\n",
       "      <td>BINANCE</td>\n",
       "      <td>SPOT</td>\n",
       "      <td>SOL</td>\n",
       "      <td>USDT</td>\n",
       "      <td>2020-08-11</td>\n",
       "      <td>2020-08-11T06:03:26.1400000Z</td>\n",
       "    </tr>\n",
       "    <tr>\n",
       "      <th>31063</th>\n",
       "      <td>BINANCE_SPOT_UNI_USDT</td>\n",
       "      <td>BINANCE</td>\n",
       "      <td>SPOT</td>\n",
       "      <td>UNI</td>\n",
       "      <td>USDT</td>\n",
       "      <td>2020-09-17</td>\n",
       "      <td>2020-09-17T03:00:00.0000000Z</td>\n",
       "    </tr>\n",
       "    <tr>\n",
       "      <th>31346</th>\n",
       "      <td>BINANCE_SPOT_AVAX_USDT</td>\n",
       "      <td>BINANCE</td>\n",
       "      <td>SPOT</td>\n",
       "      <td>AVAX</td>\n",
       "      <td>USDT</td>\n",
       "      <td>2020-09-22</td>\n",
       "      <td>2020-09-22T06:30:00.0000000Z</td>\n",
       "    </tr>\n",
       "  </tbody>\n",
       "</table>\n",
       "</div>"
      ],
      "text/plain": [
       "                     symbol_id exchange_id symbol_type asset_id_base  \\\n",
       "1786     BINANCE_SPOT_BTC_USDT     BINANCE        SPOT           BTC   \n",
       "1787     BINANCE_SPOT_ETH_USDT     BINANCE        SPOT           ETH   \n",
       "6876     BINANCE_SPOT_BNB_USDT     BINANCE        SPOT           BNB   \n",
       "9198     BINANCE_SPOT_ADA_USDT     BINANCE        SPOT           ADA   \n",
       "9423     BINANCE_SPOT_XRP_USDT     BINANCE        SPOT           XRP   \n",
       "14239  BINANCE_SPOT_MATIC_USDT     BINANCE        SPOT         MATIC   \n",
       "15702   BINANCE_SPOT_DOGE_USDT     BINANCE        SPOT          DOGE   \n",
       "28744    BINANCE_SPOT_SOL_USDT     BINANCE        SPOT           SOL   \n",
       "31063    BINANCE_SPOT_UNI_USDT     BINANCE        SPOT           UNI   \n",
       "31346   BINANCE_SPOT_AVAX_USDT     BINANCE        SPOT          AVAX   \n",
       "\n",
       "      asset_id_quote  data_start              data_trade_start  \n",
       "1786            USDT  2017-08-17  2017-08-17T04:00:28.3220000Z  \n",
       "1787            USDT  2017-08-17  2017-08-17T04:00:29.8840000Z  \n",
       "6876            USDT  2017-11-06  2017-11-06T03:54:23.5900000Z  \n",
       "9198            USDT  2018-04-17  2018-04-17T04:02:33.1680000Z  \n",
       "9423            USDT  2018-05-04  2018-05-04T08:11:31.4180000Z  \n",
       "14239           USDT  2019-04-25  2019-04-26T15:00:00.1490000Z  \n",
       "15702           USDT  2019-07-05  2019-07-05T12:00:01.9570000Z  \n",
       "28744           USDT  2020-08-11  2020-08-11T06:03:26.1400000Z  \n",
       "31063           USDT  2020-09-17  2020-09-17T03:00:00.0000000Z  \n",
       "31346           USDT  2020-09-22  2020-09-22T06:30:00.0000000Z  "
      ]
     },
     "execution_count": 9,
     "metadata": {},
     "output_type": "execute_result"
    }
   ],
   "source": [
    "spot_list"
   ]
  },
  {
   "cell_type": "code",
   "execution_count": 10,
   "metadata": {
    "pycharm": {
     "name": "#%%\n"
    }
   },
   "outputs": [],
   "source": [
    "perp_list = b_usd_filtered_perp[b_usd_filtered_perp['exchange_id'].isin(['BINANCEFTS'])].sort_values(by='data_start')\n",
    "perp_lst = perp_list['symbol_id'].to_list()"
   ]
  },
  {
   "cell_type": "markdown",
   "metadata": {
    "pycharm": {
     "name": "#%% md\n"
    }
   },
   "source": [
    "### Observations\n",
    "- start at 23/10/2020 -> 1hr bar (MATIC has latest start date for PERP)"
   ]
  },
  {
   "cell_type": "code",
   "execution_count": 20,
   "metadata": {
    "pycharm": {
     "name": "#%%\n"
    }
   },
   "outputs": [],
   "source": [
    "# params\n",
    "api_keys = [\n",
    "    '815D4FD7-0E6C-45EB-8837-1641175407AC', \n",
    "    '3E34C9E7-5D31-4B89-A8E9-467B7B861921',\n",
    "    '534DE109-4D11-464B-B86F-DBB1419C3899'\n",
    "]\n",
    "\n",
    "new_api_keys = [\n",
    "    '8A7521A1-1421-48AB-A166-49AA604883C2',\n",
    "    '9434F1A8-E441-40DC-8F37-A9D981F4DFAF',\n",
    "    'D4E31EFE-768A-421D-8813-10662E14D9ED',\n",
    "    '8DB943AB-8D97-42AF-A9B2-00B4DC53A4D2',\n",
    "    'D17137DA-D524-457A-9593-C27C02E66AAC',\n",
    "    '8F0CFB1F-5173-4111-B08D-75333CCC211F',\n",
    "    '8F0CFB1F-5173-4111-B08D-75333CCC211F',\n",
    "    '62CDDFAC-C043-47AF-94B1-874BB6722F0A',\n",
    "    '2557683A-3F65-4942-823D-871241C83AC7',\n",
    "    '5845C6EB-7ED0-4D9E-B020-504BA17844C7',\n",
    "    'AB7FDBA0-F0A4-44C1-A224-A8D2ED84954D'\n",
    "]"
   ]
  },
  {
   "cell_type": "code",
   "execution_count": 21,
   "metadata": {},
   "outputs": [
    {
     "data": {
      "text/plain": [
       "'AB7FDBA0-F0A4-44C1-A224-A8D2ED84954D'"
      ]
     },
     "execution_count": 21,
     "metadata": {},
     "output_type": "execute_result"
    }
   ],
   "source": [
    "f'{new_api_keys[10]}'"
   ]
  },
  {
   "cell_type": "code",
   "execution_count": 22,
   "metadata": {
    "pycharm": {
     "name": "#%%\n"
    }
   },
   "outputs": [],
   "source": [
    "url = f'https://rest.coinapi.io/v1/ohlcv/BINANCE_SPOT_BTC_USDT/history?period_id=1HRS&time_start=2022-10-23T00:00:00'\n",
    "headers = {'X-CoinAPI-Key' : f'{new_api_keys[10]}'}\n",
    "response = requests.get(url, headers=headers)\n",
    "if response.status_code == 200:\n",
    "    data = pd.DataFrame(response.json())"
   ]
  },
  {
   "cell_type": "code",
   "execution_count": 23,
   "metadata": {
    "collapsed": false,
    "pycharm": {
     "name": "#%%\n"
    }
   },
   "outputs": [
    {
     "data": {
      "text/html": [
       "<div>\n",
       "<style scoped>\n",
       "    .dataframe tbody tr th:only-of-type {\n",
       "        vertical-align: middle;\n",
       "    }\n",
       "\n",
       "    .dataframe tbody tr th {\n",
       "        vertical-align: top;\n",
       "    }\n",
       "\n",
       "    .dataframe thead th {\n",
       "        text-align: right;\n",
       "    }\n",
       "</style>\n",
       "<table border=\"1\" class=\"dataframe\">\n",
       "  <thead>\n",
       "    <tr style=\"text-align: right;\">\n",
       "      <th></th>\n",
       "    </tr>\n",
       "  </thead>\n",
       "  <tbody>\n",
       "  </tbody>\n",
       "</table>\n",
       "</div>"
      ],
      "text/plain": [
       "Empty DataFrame\n",
       "Columns: []\n",
       "Index: []"
      ]
     },
     "execution_count": 23,
     "metadata": {},
     "output_type": "execute_result"
    }
   ],
   "source": [
    "data"
   ]
  },
  {
   "cell_type": "code",
   "execution_count": 19,
   "metadata": {
    "pycharm": {
     "name": "#%%\n"
    }
   },
   "outputs": [
    {
     "data": {
      "text/plain": [
       "'BINANCE_SPOT_DOGE_USDT'"
      ]
     },
     "execution_count": 19,
     "metadata": {},
     "output_type": "execute_result"
    }
   ],
   "source": [
    "spot_lst[6]"
   ]
  },
  {
   "cell_type": "code",
   "execution_count": 27,
   "metadata": {
    "pycharm": {
     "name": "#%%\n"
    }
   },
   "outputs": [
    {
     "data": {
      "text/html": [
       "<div>\n",
       "<style scoped>\n",
       "    .dataframe tbody tr th:only-of-type {\n",
       "        vertical-align: middle;\n",
       "    }\n",
       "\n",
       "    .dataframe tbody tr th {\n",
       "        vertical-align: top;\n",
       "    }\n",
       "\n",
       "    .dataframe thead th {\n",
       "        text-align: right;\n",
       "    }\n",
       "</style>\n",
       "<table border=\"1\" class=\"dataframe\">\n",
       "  <thead>\n",
       "    <tr style=\"text-align: right;\">\n",
       "      <th></th>\n",
       "      <th>time_period_start</th>\n",
       "      <th>time_period_end</th>\n",
       "      <th>time_open</th>\n",
       "      <th>time_close</th>\n",
       "      <th>price_open</th>\n",
       "      <th>price_high</th>\n",
       "      <th>price_low</th>\n",
       "      <th>price_close</th>\n",
       "      <th>volume_traded</th>\n",
       "      <th>trades_count</th>\n",
       "      <th>ticker</th>\n",
       "    </tr>\n",
       "  </thead>\n",
       "  <tbody>\n",
       "    <tr>\n",
       "      <th>100</th>\n",
       "      <td>2020-10-27T04:00:00.0000000Z</td>\n",
       "      <td>2020-10-27T05:00:00.0000000Z</td>\n",
       "      <td>2020-10-27T04:00:00.1790000Z</td>\n",
       "      <td>2020-10-27T04:59:59.7730000Z</td>\n",
       "      <td>13083.24</td>\n",
       "      <td>13125.00</td>\n",
       "      <td>13083.24</td>\n",
       "      <td>13124.60</td>\n",
       "      <td>1100.816862</td>\n",
       "      <td>15977</td>\n",
       "      <td>BINANCE_SPOT_BTC_USDT</td>\n",
       "    </tr>\n",
       "    <tr>\n",
       "      <th>101</th>\n",
       "      <td>2020-10-27T05:00:00.0000000Z</td>\n",
       "      <td>2020-10-27T06:00:00.0000000Z</td>\n",
       "      <td>2020-10-27T05:00:01.0350000Z</td>\n",
       "      <td>2020-10-27T05:59:59.8560000Z</td>\n",
       "      <td>13124.61</td>\n",
       "      <td>13144.49</td>\n",
       "      <td>13080.24</td>\n",
       "      <td>13088.65</td>\n",
       "      <td>1447.336487</td>\n",
       "      <td>19319</td>\n",
       "      <td>BINANCE_SPOT_BTC_USDT</td>\n",
       "    </tr>\n",
       "    <tr>\n",
       "      <th>102</th>\n",
       "      <td>2020-10-27T06:00:00.0000000Z</td>\n",
       "      <td>2020-10-27T07:00:00.0000000Z</td>\n",
       "      <td>2020-10-27T06:00:00.6080000Z</td>\n",
       "      <td>2020-10-27T06:59:58.3880000Z</td>\n",
       "      <td>13088.66</td>\n",
       "      <td>13106.09</td>\n",
       "      <td>13061.01</td>\n",
       "      <td>13106.09</td>\n",
       "      <td>1570.109937</td>\n",
       "      <td>19349</td>\n",
       "      <td>BINANCE_SPOT_BTC_USDT</td>\n",
       "    </tr>\n",
       "    <tr>\n",
       "      <th>103</th>\n",
       "      <td>2020-10-27T07:00:00.0000000Z</td>\n",
       "      <td>2020-10-27T08:00:00.0000000Z</td>\n",
       "      <td>2020-10-27T07:00:00.3400000Z</td>\n",
       "      <td>2020-10-27T07:59:59.9890000Z</td>\n",
       "      <td>13106.08</td>\n",
       "      <td>13160.00</td>\n",
       "      <td>13086.97</td>\n",
       "      <td>13144.58</td>\n",
       "      <td>2602.515018</td>\n",
       "      <td>26664</td>\n",
       "      <td>BINANCE_SPOT_BTC_USDT</td>\n",
       "    </tr>\n",
       "    <tr>\n",
       "      <th>104</th>\n",
       "      <td>2020-10-27T08:00:00.0000000Z</td>\n",
       "      <td>2020-10-27T09:00:00.0000000Z</td>\n",
       "      <td>2020-10-27T08:00:00.1290000Z</td>\n",
       "      <td>2020-10-27T08:59:59.6000000Z</td>\n",
       "      <td>13144.59</td>\n",
       "      <td>13170.21</td>\n",
       "      <td>13125.00</td>\n",
       "      <td>13141.56</td>\n",
       "      <td>2226.309279</td>\n",
       "      <td>33975</td>\n",
       "      <td>BINANCE_SPOT_BTC_USDT</td>\n",
       "    </tr>\n",
       "  </tbody>\n",
       "</table>\n",
       "</div>"
      ],
      "text/plain": [
       "                time_period_start               time_period_end  \\\n",
       "100  2020-10-27T04:00:00.0000000Z  2020-10-27T05:00:00.0000000Z   \n",
       "101  2020-10-27T05:00:00.0000000Z  2020-10-27T06:00:00.0000000Z   \n",
       "102  2020-10-27T06:00:00.0000000Z  2020-10-27T07:00:00.0000000Z   \n",
       "103  2020-10-27T07:00:00.0000000Z  2020-10-27T08:00:00.0000000Z   \n",
       "104  2020-10-27T08:00:00.0000000Z  2020-10-27T09:00:00.0000000Z   \n",
       "\n",
       "                        time_open                    time_close  price_open  \\\n",
       "100  2020-10-27T04:00:00.1790000Z  2020-10-27T04:59:59.7730000Z    13083.24   \n",
       "101  2020-10-27T05:00:01.0350000Z  2020-10-27T05:59:59.8560000Z    13124.61   \n",
       "102  2020-10-27T06:00:00.6080000Z  2020-10-27T06:59:58.3880000Z    13088.66   \n",
       "103  2020-10-27T07:00:00.3400000Z  2020-10-27T07:59:59.9890000Z    13106.08   \n",
       "104  2020-10-27T08:00:00.1290000Z  2020-10-27T08:59:59.6000000Z    13144.59   \n",
       "\n",
       "     price_high  price_low  price_close  volume_traded  trades_count  \\\n",
       "100    13125.00   13083.24     13124.60    1100.816862         15977   \n",
       "101    13144.49   13080.24     13088.65    1447.336487         19319   \n",
       "102    13106.09   13061.01     13106.09    1570.109937         19349   \n",
       "103    13160.00   13086.97     13144.58    2602.515018         26664   \n",
       "104    13170.21   13125.00     13141.56    2226.309279         33975   \n",
       "\n",
       "                    ticker  \n",
       "100  BINANCE_SPOT_BTC_USDT  \n",
       "101  BINANCE_SPOT_BTC_USDT  \n",
       "102  BINANCE_SPOT_BTC_USDT  \n",
       "103  BINANCE_SPOT_BTC_USDT  \n",
       "104  BINANCE_SPOT_BTC_USDT  "
      ]
     },
     "execution_count": 27,
     "metadata": {},
     "output_type": "execute_result"
    }
   ],
   "source": [
    "all_df = pd.read_pickle('overall.pkl')\n",
    "all_df.head()"
   ]
  },
  {
   "cell_type": "code",
   "execution_count": 15,
   "metadata": {
    "pycharm": {
     "name": "#%%\n"
    }
   },
   "outputs": [],
   "source": [
    "def append_and_save(df):\n",
    "    all_df = pd.read_pickle('overall.pkl')\n",
    "    all_df = all_df.append(df)\n",
    "    all_df.to_pickle('overall.pkl')\n",
    "    \n",
    "# append_and_save(matic_df)"
   ]
  },
  {
   "cell_type": "code",
   "execution_count": 17,
   "metadata": {
    "pycharm": {
     "name": "#%%\n"
    }
   },
   "outputs": [],
   "source": [
    "def get_data(df, start, count_limit, ticker, api_key):\n",
    "    count = 0\n",
    "    condition = 0\n",
    "    while True:\n",
    "        if df.empty:\n",
    "            start_dt = '2022-10-23T00:00:00'\n",
    "        else:\n",
    "            start_dt = start\n",
    "        try:\n",
    "            if count == 0 and condition == 0:\n",
    "                url = f'https://rest.coinapi.io/v1/ohlcv/{ticker}/history?period_id=1HRS&time_start={start_dt}'\n",
    "                headers = {'X-CoinAPI-Key' : f'{api_key}'}\n",
    "                response = requests.get(url, headers=headers)\n",
    "                if response.status_code == 200:\n",
    "                    data = pd.DataFrame(response.json())\n",
    "                    if data.empty:\n",
    "                        break\n",
    "                    data['ticker'] = ticker\n",
    "                    df = df.append(data)\n",
    "                    print('1st iteration done')\n",
    "                    condition = 1\n",
    "                    count += 1\n",
    "                elif response.status_code != 200:\n",
    "                    print('error in retrieving data')\n",
    "                    break\n",
    "            elif condition == 1 and count > 0 and count < count_limit:\n",
    "                start_dt_revised = data.iloc[-1:,1:2].values[0][0][0:19]\n",
    "                url = f'https://rest.coinapi.io/v1/ohlcv/{ticker}/history?period_id=1HRS&time_start={start_dt_revised}'\n",
    "                headers = {'X-CoinAPI-Key' : f'{api_key}'}\n",
    "                response = requests.get(url, headers=headers)\n",
    "                if response.status_code == 200:\n",
    "                    data = pd.DataFrame(response.json())\n",
    "                    if data.empty:\n",
    "                        break\n",
    "                    data['ticker'] = ticker\n",
    "                    df = df.append(data)\n",
    "                    print(f'{count} iteration')\n",
    "                    condition = 1\n",
    "                    count += 1\n",
    "                elif response.status_code != 200:\n",
    "                    print('no data for n run')\n",
    "                    break\n",
    "            elif count == count_limit:\n",
    "                break\n",
    "                    \n",
    "        except Exception as e:\n",
    "            print(e)\n",
    "            break\n",
    "    \n",
    "    return df"
   ]
  },
  {
   "cell_type": "code",
   "execution_count": 211,
   "metadata": {
    "pycharm": {
     "name": "#%%\n"
    }
   },
   "outputs": [
    {
     "data": {
      "text/html": [
       "<div>\n",
       "<style scoped>\n",
       "    .dataframe tbody tr th:only-of-type {\n",
       "        vertical-align: middle;\n",
       "    }\n",
       "\n",
       "    .dataframe tbody tr th {\n",
       "        vertical-align: top;\n",
       "    }\n",
       "\n",
       "    .dataframe thead th {\n",
       "        text-align: right;\n",
       "    }\n",
       "</style>\n",
       "<table border=\"1\" class=\"dataframe\">\n",
       "  <thead>\n",
       "    <tr style=\"text-align: right;\">\n",
       "      <th></th>\n",
       "      <th>ticker</th>\n",
       "    </tr>\n",
       "  </thead>\n",
       "  <tbody>\n",
       "  </tbody>\n",
       "</table>\n",
       "</div>"
      ],
      "text/plain": [
       "Empty DataFrame\n",
       "Columns: [ticker]\n",
       "Index: []"
      ]
     },
     "execution_count": 211,
     "metadata": {},
     "output_type": "execute_result"
    }
   ],
   "source": [
    "coin_df"
   ]
  },
  {
   "cell_type": "code",
   "execution_count": 26,
   "metadata": {
    "pycharm": {
     "name": "#%%\n"
    }
   },
   "outputs": [],
   "source": [
    "start = ''\n",
    "ticker = spot_lst[7]\n",
    "api_key = new_api_keys[5]\n",
    "count_limit = 100\n",
    "df = pd.DataFrame()\n",
    "\n",
    "coin_df = get_data(df, start, count_limit, ticker, api_key)"
   ]
  },
  {
   "cell_type": "code",
   "execution_count": 189,
   "metadata": {
    "pycharm": {
     "name": "#%%\n"
    }
   },
   "outputs": [
    {
     "name": "stdout",
     "output_type": "stream",
     "text": [
      "error in retrieving data\n"
     ]
    }
   ],
   "source": [
    "count = 0\n",
    "condition = 0\n",
    "while True:\n",
    "    start_dt = '2021-12-16T10:00:00'\n",
    "    try:\n",
    "        if count == 0 and condition == 0:\n",
    "            url = f'https://rest.coinapi.io/v1/ohlcv/{spot_lst[5]}/history?period_id={interval}&time_start={start_dt}'\n",
    "            headers = {'X-CoinAPI-Key' : f'{new_api_keys[4]}'}\n",
    "            response = requests.get(url, headers=headers)\n",
    "            if response.status_code == 200 and count < 10:\n",
    "                data = pd.DataFrame(response.json())\n",
    "                data['ticker'] = spot_lst[5]\n",
    "                matic_df = matic_df.append(data)\n",
    "                print('1st iteration done')\n",
    "                condition = 1\n",
    "                count += 1\n",
    "            elif response.status_code != 200:\n",
    "                print('error in retrieving data')\n",
    "                break\n",
    "        elif condition == 1 and count > 0 and count < 50:\n",
    "            start_dt_revised = data.iloc[-1:,1:2].values[0][0][0:19]\n",
    "            url = f'https://rest.coinapi.io/v1/ohlcv/{spot_lst[5]}/history?period_id={interval}&time_start={start_dt_revised}'\n",
    "            headers = {'X-CoinAPI-Key' : f'{new_api_keys[4]}'}\n",
    "            response = requests.get(url, headers=headers)\n",
    "            if response.status_code == 200:\n",
    "                data = pd.DataFrame(response.json())\n",
    "                data['ticker'] = spot_lst[5]\n",
    "                matic_df = matic_df.append(data)\n",
    "                print(f'{count} iteration')\n",
    "                condition = 1\n",
    "                count += 1\n",
    "            elif response.status_code != 200:\n",
    "                print('no data for n run')\n",
    "                break\n",
    "        elif count == 50:\n",
    "            break\n",
    "                \n",
    "    except Exception as e:\n",
    "        print(e)\n",
    "        break"
   ]
  },
  {
   "cell_type": "code",
   "execution_count": 107,
   "metadata": {
    "pycharm": {
     "name": "#%%\n"
    }
   },
   "outputs": [
    {
     "data": {
      "text/plain": [
       "Index(['time_period_start', 'time_period_end', 'time_open', 'time_close',\n",
       "       'price_open', 'price_high', 'price_low', 'price_close', 'volume_traded',\n",
       "       'trades_count', 'ticker'],\n",
       "      dtype='object')"
      ]
     },
     "execution_count": 107,
     "metadata": {},
     "output_type": "execute_result"
    }
   ],
   "source": [
    "overall_tickers.columns"
   ]
  },
  {
   "cell_type": "code",
   "execution_count": 141,
   "metadata": {
    "pycharm": {
     "name": "#%%\n"
    }
   },
   "outputs": [],
   "source": [
    "overall_tickers.to_pickle('overall.pkl')"
   ]
  },
  {
   "cell_type": "markdown",
   "metadata": {
    "pycharm": {
     "name": "#%% md\n"
    }
   },
   "source": [
    "### data wrangling"
   ]
  },
  {
   "cell_type": "code",
   "execution_count": 108,
   "metadata": {
    "pycharm": {
     "name": "#%%\n"
    }
   },
   "outputs": [],
   "source": [
    "test_wrangle = pd.read_pickle('overall.pkl')\n",
    "test_wrangle = test_wrangle[test_wrangle['ticker'].isin([spot_lst[0]])]"
   ]
  },
  {
   "cell_type": "code",
   "execution_count": null,
   "metadata": {
    "pycharm": {
     "name": "#%%\n"
    }
   },
   "outputs": [],
   "source": [
    "def get_date(dt):\n",
    "    return dt.date\n",
    "\n",
    "def get_time(ts):\n",
    "    return ts.time().hour * 100 + ts.time().minute\n",
    "\n",
    "def wrangle_to_pivot(df, col_list):\n",
    "    df = df[col_list]\n",
    "    \n",
    "    # convert to datetime and timezone for first column\n",
    "    df.iloc[:, 0:1] = pd.to_datetime(df.iloc[:, 0:1], utc=True)\n",
    "    df = df.set_index(col_list[0])\n",
    "    df['Date'] = df.index.map(lambda x: get_date(x))\n",
    "    df['Time'] = df.index.map(lambda x: get_time(x))\n",
    "    df = df.pivot(index='Date', columns='Time', values=col_list[1])\n",
    "    return df"
   ]
  },
  {
   "cell_type": "code",
   "execution_count": 119,
   "metadata": {
    "pycharm": {
     "name": "#%%\n"
    }
   },
   "outputs": [
    {
     "data": {
      "text/html": [
       "<div>\n",
       "<style scoped>\n",
       "    .dataframe tbody tr th:only-of-type {\n",
       "        vertical-align: middle;\n",
       "    }\n",
       "\n",
       "    .dataframe tbody tr th {\n",
       "        vertical-align: top;\n",
       "    }\n",
       "\n",
       "    .dataframe thead th {\n",
       "        text-align: right;\n",
       "    }\n",
       "</style>\n",
       "<table border=\"1\" class=\"dataframe\">\n",
       "  <thead>\n",
       "    <tr style=\"text-align: right;\">\n",
       "      <th>Time</th>\n",
       "      <th>0</th>\n",
       "      <th>100</th>\n",
       "      <th>200</th>\n",
       "      <th>300</th>\n",
       "      <th>400</th>\n",
       "      <th>500</th>\n",
       "      <th>600</th>\n",
       "      <th>700</th>\n",
       "      <th>800</th>\n",
       "      <th>900</th>\n",
       "      <th>...</th>\n",
       "      <th>1400</th>\n",
       "      <th>1500</th>\n",
       "      <th>1600</th>\n",
       "      <th>1700</th>\n",
       "      <th>1800</th>\n",
       "      <th>1900</th>\n",
       "      <th>2000</th>\n",
       "      <th>2100</th>\n",
       "      <th>2200</th>\n",
       "      <th>2300</th>\n",
       "    </tr>\n",
       "    <tr>\n",
       "      <th>Date</th>\n",
       "      <th></th>\n",
       "      <th></th>\n",
       "      <th></th>\n",
       "      <th></th>\n",
       "      <th></th>\n",
       "      <th></th>\n",
       "      <th></th>\n",
       "      <th></th>\n",
       "      <th></th>\n",
       "      <th></th>\n",
       "      <th></th>\n",
       "      <th></th>\n",
       "      <th></th>\n",
       "      <th></th>\n",
       "      <th></th>\n",
       "      <th></th>\n",
       "      <th></th>\n",
       "      <th></th>\n",
       "      <th></th>\n",
       "      <th></th>\n",
       "      <th></th>\n",
       "    </tr>\n",
       "  </thead>\n",
       "  <tbody>\n",
       "    <tr>\n",
       "      <th>2020-10-23</th>\n",
       "      <td>12911.48</td>\n",
       "      <td>12904.19</td>\n",
       "      <td>12985.00</td>\n",
       "      <td>12960.01</td>\n",
       "      <td>12919.31</td>\n",
       "      <td>12988.01</td>\n",
       "      <td>12877.31</td>\n",
       "      <td>12883.62</td>\n",
       "      <td>12917.44</td>\n",
       "      <td>12945.20</td>\n",
       "      <td>...</td>\n",
       "      <td>12932.08</td>\n",
       "      <td>12921.09</td>\n",
       "      <td>12788.19</td>\n",
       "      <td>12785.92</td>\n",
       "      <td>12852.97</td>\n",
       "      <td>12918.99</td>\n",
       "      <td>12927.60</td>\n",
       "      <td>12904.83</td>\n",
       "      <td>12934.53</td>\n",
       "      <td>12923.07</td>\n",
       "    </tr>\n",
       "    <tr>\n",
       "      <th>2020-10-24</th>\n",
       "      <td>12905.82</td>\n",
       "      <td>12963.76</td>\n",
       "      <td>12989.00</td>\n",
       "      <td>12967.74</td>\n",
       "      <td>12966.32</td>\n",
       "      <td>12964.71</td>\n",
       "      <td>12946.76</td>\n",
       "      <td>12924.79</td>\n",
       "      <td>12931.00</td>\n",
       "      <td>12949.56</td>\n",
       "      <td>...</td>\n",
       "      <td>13067.01</td>\n",
       "      <td>13100.00</td>\n",
       "      <td>13076.94</td>\n",
       "      <td>13126.53</td>\n",
       "      <td>13103.66</td>\n",
       "      <td>13118.24</td>\n",
       "      <td>13091.80</td>\n",
       "      <td>13059.32</td>\n",
       "      <td>13068.53</td>\n",
       "      <td>13111.73</td>\n",
       "    </tr>\n",
       "    <tr>\n",
       "      <th>2020-10-25</th>\n",
       "      <td>13131.67</td>\n",
       "      <td>13138.84</td>\n",
       "      <td>13127.36</td>\n",
       "      <td>13295.50</td>\n",
       "      <td>13311.81</td>\n",
       "      <td>12954.56</td>\n",
       "      <td>13013.36</td>\n",
       "      <td>13027.24</td>\n",
       "      <td>13018.94</td>\n",
       "      <td>12993.01</td>\n",
       "      <td>...</td>\n",
       "      <td>12985.98</td>\n",
       "      <td>12940.74</td>\n",
       "      <td>12999.99</td>\n",
       "      <td>13001.98</td>\n",
       "      <td>12985.58</td>\n",
       "      <td>13042.16</td>\n",
       "      <td>13020.58</td>\n",
       "      <td>13023.95</td>\n",
       "      <td>13011.97</td>\n",
       "      <td>13028.83</td>\n",
       "    </tr>\n",
       "    <tr>\n",
       "      <th>2020-10-26</th>\n",
       "      <td>13049.22</td>\n",
       "      <td>13074.06</td>\n",
       "      <td>13087.70</td>\n",
       "      <td>13094.53</td>\n",
       "      <td>13109.33</td>\n",
       "      <td>13103.43</td>\n",
       "      <td>13078.06</td>\n",
       "      <td>13037.08</td>\n",
       "      <td>13054.38</td>\n",
       "      <td>13086.72</td>\n",
       "      <td>...</td>\n",
       "      <td>13167.17</td>\n",
       "      <td>12978.41</td>\n",
       "      <td>12844.52</td>\n",
       "      <td>12875.03</td>\n",
       "      <td>12963.25</td>\n",
       "      <td>13004.50</td>\n",
       "      <td>12996.08</td>\n",
       "      <td>13013.72</td>\n",
       "      <td>13043.21</td>\n",
       "      <td>13052.19</td>\n",
       "    </tr>\n",
       "    <tr>\n",
       "      <th>2020-10-27</th>\n",
       "      <td>13092.89</td>\n",
       "      <td>13094.12</td>\n",
       "      <td>13071.89</td>\n",
       "      <td>13083.24</td>\n",
       "      <td>13124.60</td>\n",
       "      <td>13088.65</td>\n",
       "      <td>13106.09</td>\n",
       "      <td>13144.58</td>\n",
       "      <td>13141.56</td>\n",
       "      <td>13144.80</td>\n",
       "      <td>...</td>\n",
       "      <td>13390.83</td>\n",
       "      <td>13609.24</td>\n",
       "      <td>13642.75</td>\n",
       "      <td>13673.58</td>\n",
       "      <td>13633.93</td>\n",
       "      <td>13656.89</td>\n",
       "      <td>13602.52</td>\n",
       "      <td>13692.58</td>\n",
       "      <td>13730.00</td>\n",
       "      <td>13636.17</td>\n",
       "    </tr>\n",
       "    <tr>\n",
       "      <th>...</th>\n",
       "      <td>...</td>\n",
       "      <td>...</td>\n",
       "      <td>...</td>\n",
       "      <td>...</td>\n",
       "      <td>...</td>\n",
       "      <td>...</td>\n",
       "      <td>...</td>\n",
       "      <td>...</td>\n",
       "      <td>...</td>\n",
       "      <td>...</td>\n",
       "      <td>...</td>\n",
       "      <td>...</td>\n",
       "      <td>...</td>\n",
       "      <td>...</td>\n",
       "      <td>...</td>\n",
       "      <td>...</td>\n",
       "      <td>...</td>\n",
       "      <td>...</td>\n",
       "      <td>...</td>\n",
       "      <td>...</td>\n",
       "      <td>...</td>\n",
       "    </tr>\n",
       "    <tr>\n",
       "      <th>2022-08-22</th>\n",
       "      <td>21454.26</td>\n",
       "      <td>21443.79</td>\n",
       "      <td>21471.59</td>\n",
       "      <td>21414.86</td>\n",
       "      <td>21466.72</td>\n",
       "      <td>21428.66</td>\n",
       "      <td>21350.67</td>\n",
       "      <td>21097.72</td>\n",
       "      <td>21189.55</td>\n",
       "      <td>21175.06</td>\n",
       "      <td>...</td>\n",
       "      <td>21201.08</td>\n",
       "      <td>21400.47</td>\n",
       "      <td>21331.57</td>\n",
       "      <td>21233.01</td>\n",
       "      <td>21023.94</td>\n",
       "      <td>21057.25</td>\n",
       "      <td>21130.11</td>\n",
       "      <td>21101.67</td>\n",
       "      <td>21175.93</td>\n",
       "      <td>21399.83</td>\n",
       "    </tr>\n",
       "    <tr>\n",
       "      <th>2022-08-23</th>\n",
       "      <td>21303.25</td>\n",
       "      <td>21306.86</td>\n",
       "      <td>21347.38</td>\n",
       "      <td>21239.18</td>\n",
       "      <td>21265.60</td>\n",
       "      <td>20965.89</td>\n",
       "      <td>21083.26</td>\n",
       "      <td>21305.34</td>\n",
       "      <td>21450.00</td>\n",
       "      <td>21442.58</td>\n",
       "      <td>...</td>\n",
       "      <td>21467.99</td>\n",
       "      <td>21474.67</td>\n",
       "      <td>21462.75</td>\n",
       "      <td>21414.72</td>\n",
       "      <td>21543.77</td>\n",
       "      <td>21522.01</td>\n",
       "      <td>21478.35</td>\n",
       "      <td>21489.36</td>\n",
       "      <td>21475.50</td>\n",
       "      <td>21529.12</td>\n",
       "    </tr>\n",
       "    <tr>\n",
       "      <th>2022-08-24</th>\n",
       "      <td>21385.79</td>\n",
       "      <td>21264.71</td>\n",
       "      <td>21200.06</td>\n",
       "      <td>21264.01</td>\n",
       "      <td>21328.56</td>\n",
       "      <td>21421.18</td>\n",
       "      <td>21404.55</td>\n",
       "      <td>21317.85</td>\n",
       "      <td>21341.40</td>\n",
       "      <td>21314.67</td>\n",
       "      <td>...</td>\n",
       "      <td>21467.61</td>\n",
       "      <td>21618.45</td>\n",
       "      <td>21717.89</td>\n",
       "      <td>21633.24</td>\n",
       "      <td>21674.91</td>\n",
       "      <td>21707.58</td>\n",
       "      <td>21691.93</td>\n",
       "      <td>21592.07</td>\n",
       "      <td>21493.73</td>\n",
       "      <td>21368.08</td>\n",
       "    </tr>\n",
       "    <tr>\n",
       "      <th>2022-08-25</th>\n",
       "      <td>21481.32</td>\n",
       "      <td>21553.87</td>\n",
       "      <td>21526.96</td>\n",
       "      <td>21468.93</td>\n",
       "      <td>21540.79</td>\n",
       "      <td>21559.17</td>\n",
       "      <td>21692.19</td>\n",
       "      <td>21743.29</td>\n",
       "      <td>21686.64</td>\n",
       "      <td>21705.62</td>\n",
       "      <td>...</td>\n",
       "      <td>21657.95</td>\n",
       "      <td>21565.12</td>\n",
       "      <td>21445.00</td>\n",
       "      <td>21571.16</td>\n",
       "      <td>21539.70</td>\n",
       "      <td>21605.20</td>\n",
       "      <td>21646.11</td>\n",
       "      <td>21583.00</td>\n",
       "      <td>21576.26</td>\n",
       "      <td>21559.04</td>\n",
       "    </tr>\n",
       "    <tr>\n",
       "      <th>2022-08-26</th>\n",
       "      <td>21477.12</td>\n",
       "      <td>21558.13</td>\n",
       "      <td>21599.10</td>\n",
       "      <td>21552.17</td>\n",
       "      <td>21530.53</td>\n",
       "      <td>21404.25</td>\n",
       "      <td>21425.00</td>\n",
       "      <td>21452.90</td>\n",
       "      <td>NaN</td>\n",
       "      <td>NaN</td>\n",
       "      <td>...</td>\n",
       "      <td>NaN</td>\n",
       "      <td>NaN</td>\n",
       "      <td>NaN</td>\n",
       "      <td>NaN</td>\n",
       "      <td>NaN</td>\n",
       "      <td>NaN</td>\n",
       "      <td>NaN</td>\n",
       "      <td>NaN</td>\n",
       "      <td>NaN</td>\n",
       "      <td>NaN</td>\n",
       "    </tr>\n",
       "  </tbody>\n",
       "</table>\n",
       "<p>673 rows × 24 columns</p>\n",
       "</div>"
      ],
      "text/plain": [
       "Time            0         100       200       300       400       500   \\\n",
       "Date                                                                     \n",
       "2020-10-23  12911.48  12904.19  12985.00  12960.01  12919.31  12988.01   \n",
       "2020-10-24  12905.82  12963.76  12989.00  12967.74  12966.32  12964.71   \n",
       "2020-10-25  13131.67  13138.84  13127.36  13295.50  13311.81  12954.56   \n",
       "2020-10-26  13049.22  13074.06  13087.70  13094.53  13109.33  13103.43   \n",
       "2020-10-27  13092.89  13094.12  13071.89  13083.24  13124.60  13088.65   \n",
       "...              ...       ...       ...       ...       ...       ...   \n",
       "2022-08-22  21454.26  21443.79  21471.59  21414.86  21466.72  21428.66   \n",
       "2022-08-23  21303.25  21306.86  21347.38  21239.18  21265.60  20965.89   \n",
       "2022-08-24  21385.79  21264.71  21200.06  21264.01  21328.56  21421.18   \n",
       "2022-08-25  21481.32  21553.87  21526.96  21468.93  21540.79  21559.17   \n",
       "2022-08-26  21477.12  21558.13  21599.10  21552.17  21530.53  21404.25   \n",
       "\n",
       "Time            600       700       800       900   ...      1400      1500  \\\n",
       "Date                                                ...                       \n",
       "2020-10-23  12877.31  12883.62  12917.44  12945.20  ...  12932.08  12921.09   \n",
       "2020-10-24  12946.76  12924.79  12931.00  12949.56  ...  13067.01  13100.00   \n",
       "2020-10-25  13013.36  13027.24  13018.94  12993.01  ...  12985.98  12940.74   \n",
       "2020-10-26  13078.06  13037.08  13054.38  13086.72  ...  13167.17  12978.41   \n",
       "2020-10-27  13106.09  13144.58  13141.56  13144.80  ...  13390.83  13609.24   \n",
       "...              ...       ...       ...       ...  ...       ...       ...   \n",
       "2022-08-22  21350.67  21097.72  21189.55  21175.06  ...  21201.08  21400.47   \n",
       "2022-08-23  21083.26  21305.34  21450.00  21442.58  ...  21467.99  21474.67   \n",
       "2022-08-24  21404.55  21317.85  21341.40  21314.67  ...  21467.61  21618.45   \n",
       "2022-08-25  21692.19  21743.29  21686.64  21705.62  ...  21657.95  21565.12   \n",
       "2022-08-26  21425.00  21452.90       NaN       NaN  ...       NaN       NaN   \n",
       "\n",
       "Time            1600      1700      1800      1900      2000      2100  \\\n",
       "Date                                                                     \n",
       "2020-10-23  12788.19  12785.92  12852.97  12918.99  12927.60  12904.83   \n",
       "2020-10-24  13076.94  13126.53  13103.66  13118.24  13091.80  13059.32   \n",
       "2020-10-25  12999.99  13001.98  12985.58  13042.16  13020.58  13023.95   \n",
       "2020-10-26  12844.52  12875.03  12963.25  13004.50  12996.08  13013.72   \n",
       "2020-10-27  13642.75  13673.58  13633.93  13656.89  13602.52  13692.58   \n",
       "...              ...       ...       ...       ...       ...       ...   \n",
       "2022-08-22  21331.57  21233.01  21023.94  21057.25  21130.11  21101.67   \n",
       "2022-08-23  21462.75  21414.72  21543.77  21522.01  21478.35  21489.36   \n",
       "2022-08-24  21717.89  21633.24  21674.91  21707.58  21691.93  21592.07   \n",
       "2022-08-25  21445.00  21571.16  21539.70  21605.20  21646.11  21583.00   \n",
       "2022-08-26       NaN       NaN       NaN       NaN       NaN       NaN   \n",
       "\n",
       "Time            2200      2300  \n",
       "Date                            \n",
       "2020-10-23  12934.53  12923.07  \n",
       "2020-10-24  13068.53  13111.73  \n",
       "2020-10-25  13011.97  13028.83  \n",
       "2020-10-26  13043.21  13052.19  \n",
       "2020-10-27  13730.00  13636.17  \n",
       "...              ...       ...  \n",
       "2022-08-22  21175.93  21399.83  \n",
       "2022-08-23  21475.50  21529.12  \n",
       "2022-08-24  21493.73  21368.08  \n",
       "2022-08-25  21576.26  21559.04  \n",
       "2022-08-26       NaN       NaN  \n",
       "\n",
       "[673 rows x 24 columns]"
      ]
     },
     "execution_count": 119,
     "metadata": {},
     "output_type": "execute_result"
    }
   ],
   "source": [
    "test_wrangle"
   ]
  },
  {
   "cell_type": "markdown",
   "metadata": {},
   "source": [
    "### creating sql db"
   ]
  },
  {
   "cell_type": "code",
   "execution_count": 22,
   "metadata": {
    "pycharm": {
     "name": "#%%\n"
    }
   },
   "outputs": [],
   "source": [
    "engine = sqlalchemy.create_engine('sqlite:///btcusdt.db')"
   ]
  },
  {
   "cell_type": "code",
   "execution_count": null,
   "metadata": {
    "pycharm": {
     "name": "#%%\n"
    }
   },
   "outputs": [],
   "source": [
    "data = pd.read_sql('btcusdt', engine)"
   ]
  },
  {
   "cell_type": "code",
   "execution_count": 27,
   "metadata": {
    "pycharm": {
     "name": "#%%\n"
    }
   },
   "outputs": [
    {
     "data": {
      "text/html": [
       "<div>\n",
       "<style scoped>\n",
       "    .dataframe tbody tr th:only-of-type {\n",
       "        vertical-align: middle;\n",
       "    }\n",
       "\n",
       "    .dataframe tbody tr th {\n",
       "        vertical-align: top;\n",
       "    }\n",
       "\n",
       "    .dataframe thead th {\n",
       "        text-align: right;\n",
       "    }\n",
       "</style>\n",
       "<table border=\"1\" class=\"dataframe\">\n",
       "  <thead>\n",
       "    <tr style=\"text-align: right;\">\n",
       "      <th></th>\n",
       "      <th>symbol</th>\n",
       "      <th>time</th>\n",
       "      <th>price</th>\n",
       "    </tr>\n",
       "  </thead>\n",
       "  <tbody>\n",
       "    <tr>\n",
       "      <th>0</th>\n",
       "      <td>BTCUSDT</td>\n",
       "      <td>2022-01-01 15:55:49.044</td>\n",
       "      <td>47213.21000000</td>\n",
       "    </tr>\n",
       "    <tr>\n",
       "      <th>1</th>\n",
       "      <td>BTCUSDT</td>\n",
       "      <td>2022-01-01 15:55:49.044</td>\n",
       "      <td>47213.21000000</td>\n",
       "    </tr>\n",
       "    <tr>\n",
       "      <th>2</th>\n",
       "      <td>BTCUSDT</td>\n",
       "      <td>2022-01-01 15:55:49.044</td>\n",
       "      <td>47213.21000000</td>\n",
       "    </tr>\n",
       "    <tr>\n",
       "      <th>3</th>\n",
       "      <td>BTCUSDT</td>\n",
       "      <td>2022-01-01 15:55:49.188</td>\n",
       "      <td>47213.22000000</td>\n",
       "    </tr>\n",
       "    <tr>\n",
       "      <th>4</th>\n",
       "      <td>BTCUSDT</td>\n",
       "      <td>2022-01-01 15:55:49.188</td>\n",
       "      <td>47213.22000000</td>\n",
       "    </tr>\n",
       "    <tr>\n",
       "      <th>...</th>\n",
       "      <td>...</td>\n",
       "      <td>...</td>\n",
       "      <td>...</td>\n",
       "    </tr>\n",
       "    <tr>\n",
       "      <th>95</th>\n",
       "      <td>BTCUSDT</td>\n",
       "      <td>2022-01-01 15:55:59.472</td>\n",
       "      <td>47227.39000000</td>\n",
       "    </tr>\n",
       "    <tr>\n",
       "      <th>96</th>\n",
       "      <td>BTCUSDT</td>\n",
       "      <td>2022-01-01 15:55:59.941</td>\n",
       "      <td>47227.38000000</td>\n",
       "    </tr>\n",
       "    <tr>\n",
       "      <th>97</th>\n",
       "      <td>BTCUSDT</td>\n",
       "      <td>2022-01-01 15:55:59.967</td>\n",
       "      <td>47227.38000000</td>\n",
       "    </tr>\n",
       "    <tr>\n",
       "      <th>98</th>\n",
       "      <td>BTCUSDT</td>\n",
       "      <td>2022-01-01 15:55:59.967</td>\n",
       "      <td>47227.38000000</td>\n",
       "    </tr>\n",
       "    <tr>\n",
       "      <th>99</th>\n",
       "      <td>BTCUSDT</td>\n",
       "      <td>2022-01-01 15:55:59.974</td>\n",
       "      <td>47227.39000000</td>\n",
       "    </tr>\n",
       "  </tbody>\n",
       "</table>\n",
       "<p>100 rows × 3 columns</p>\n",
       "</div>"
      ],
      "text/plain": [
       "     symbol                    time           price\n",
       "0   BTCUSDT 2022-01-01 15:55:49.044  47213.21000000\n",
       "1   BTCUSDT 2022-01-01 15:55:49.044  47213.21000000\n",
       "2   BTCUSDT 2022-01-01 15:55:49.044  47213.21000000\n",
       "3   BTCUSDT 2022-01-01 15:55:49.188  47213.22000000\n",
       "4   BTCUSDT 2022-01-01 15:55:49.188  47213.22000000\n",
       "..      ...                     ...             ...\n",
       "95  BTCUSDT 2022-01-01 15:55:59.472  47227.39000000\n",
       "96  BTCUSDT 2022-01-01 15:55:59.941  47227.38000000\n",
       "97  BTCUSDT 2022-01-01 15:55:59.967  47227.38000000\n",
       "98  BTCUSDT 2022-01-01 15:55:59.967  47227.38000000\n",
       "99  BTCUSDT 2022-01-01 15:55:59.974  47227.39000000\n",
       "\n",
       "[100 rows x 3 columns]"
      ]
     },
     "execution_count": 27,
     "metadata": {},
     "output_type": "execute_result"
    }
   ],
   "source": [
    "data"
   ]
  },
  {
   "cell_type": "markdown",
   "metadata": {
    "pycharm": {
     "name": "#%% md\n"
    }
   },
   "source": [
    "#### Momentum Idea\n",
    "- testing different lookback periods for (if ret > [range], long, else: short)\n",
    "- use 15mins and 4hrs timeframe to trade\n",
    "- transaction cost -> ftx costs\n",
    "- bid-ask pricing -> buy and sell at 10pips higher"
   ]
  }
 ],
 "metadata": {
  "kernelspec": {
   "display_name": "Python 3.9.7 ('base')",
   "language": "python",
   "name": "python3"
  },
  "language_info": {
   "codemirror_mode": {
    "name": "ipython",
    "version": 3
   },
   "file_extension": ".py",
   "mimetype": "text/x-python",
   "name": "python",
   "nbconvert_exporter": "python",
   "pygments_lexer": "ipython3",
   "version": "3.9.7"
  },
  "orig_nbformat": 4,
  "vscode": {
   "interpreter": {
    "hash": "42ee78b140c4391ab347984773da8913dfa7421ce17c9e371fa6e74cbffc395c"
   }
  }
 },
 "nbformat": 4,
 "nbformat_minor": 2
}
